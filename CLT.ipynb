{
 "cells": [
  {
   "cell_type": "code",
   "execution_count": 1,
   "id": "b172feec",
   "metadata": {},
   "outputs": [],
   "source": [
    "import numpy as np\n",
    "import pandas as pd\n",
    "import matplotlib.pyplot as plt\n",
    "import seaborn as sns"
   ]
  },
  {
   "cell_type": "code",
   "execution_count": 7,
   "id": "e302c3bc",
   "metadata": {},
   "outputs": [],
   "source": [
    "df = pd.read_csv('weight-height.csv')"
   ]
  },
  {
   "cell_type": "code",
   "execution_count": 8,
   "id": "273e869b",
   "metadata": {},
   "outputs": [
    {
     "data": {
      "text/html": [
       "<div>\n",
       "<style scoped>\n",
       "    .dataframe tbody tr th:only-of-type {\n",
       "        vertical-align: middle;\n",
       "    }\n",
       "\n",
       "    .dataframe tbody tr th {\n",
       "        vertical-align: top;\n",
       "    }\n",
       "\n",
       "    .dataframe thead th {\n",
       "        text-align: right;\n",
       "    }\n",
       "</style>\n",
       "<table border=\"1\" class=\"dataframe\">\n",
       "  <thead>\n",
       "    <tr style=\"text-align: right;\">\n",
       "      <th></th>\n",
       "      <th>Gender</th>\n",
       "      <th>Height</th>\n",
       "      <th>Weight</th>\n",
       "    </tr>\n",
       "  </thead>\n",
       "  <tbody>\n",
       "    <tr>\n",
       "      <th>0</th>\n",
       "      <td>Male</td>\n",
       "      <td>73.847017</td>\n",
       "      <td>241.893563</td>\n",
       "    </tr>\n",
       "    <tr>\n",
       "      <th>1</th>\n",
       "      <td>Male</td>\n",
       "      <td>68.781904</td>\n",
       "      <td>162.310473</td>\n",
       "    </tr>\n",
       "    <tr>\n",
       "      <th>2</th>\n",
       "      <td>Male</td>\n",
       "      <td>74.110105</td>\n",
       "      <td>212.740856</td>\n",
       "    </tr>\n",
       "    <tr>\n",
       "      <th>3</th>\n",
       "      <td>Male</td>\n",
       "      <td>71.730978</td>\n",
       "      <td>220.042470</td>\n",
       "    </tr>\n",
       "    <tr>\n",
       "      <th>4</th>\n",
       "      <td>Male</td>\n",
       "      <td>69.881796</td>\n",
       "      <td>206.349801</td>\n",
       "    </tr>\n",
       "    <tr>\n",
       "      <th>...</th>\n",
       "      <td>...</td>\n",
       "      <td>...</td>\n",
       "      <td>...</td>\n",
       "    </tr>\n",
       "    <tr>\n",
       "      <th>9995</th>\n",
       "      <td>Female</td>\n",
       "      <td>66.172652</td>\n",
       "      <td>136.777454</td>\n",
       "    </tr>\n",
       "    <tr>\n",
       "      <th>9996</th>\n",
       "      <td>Female</td>\n",
       "      <td>67.067155</td>\n",
       "      <td>170.867906</td>\n",
       "    </tr>\n",
       "    <tr>\n",
       "      <th>9997</th>\n",
       "      <td>Female</td>\n",
       "      <td>63.867992</td>\n",
       "      <td>128.475319</td>\n",
       "    </tr>\n",
       "    <tr>\n",
       "      <th>9998</th>\n",
       "      <td>Female</td>\n",
       "      <td>69.034243</td>\n",
       "      <td>163.852461</td>\n",
       "    </tr>\n",
       "    <tr>\n",
       "      <th>9999</th>\n",
       "      <td>Female</td>\n",
       "      <td>61.944246</td>\n",
       "      <td>113.649103</td>\n",
       "    </tr>\n",
       "  </tbody>\n",
       "</table>\n",
       "<p>10000 rows × 3 columns</p>\n",
       "</div>"
      ],
      "text/plain": [
       "      Gender     Height      Weight\n",
       "0       Male  73.847017  241.893563\n",
       "1       Male  68.781904  162.310473\n",
       "2       Male  74.110105  212.740856\n",
       "3       Male  71.730978  220.042470\n",
       "4       Male  69.881796  206.349801\n",
       "...      ...        ...         ...\n",
       "9995  Female  66.172652  136.777454\n",
       "9996  Female  67.067155  170.867906\n",
       "9997  Female  63.867992  128.475319\n",
       "9998  Female  69.034243  163.852461\n",
       "9999  Female  61.944246  113.649103\n",
       "\n",
       "[10000 rows x 3 columns]"
      ]
     },
     "execution_count": 8,
     "metadata": {},
     "output_type": "execute_result"
    }
   ],
   "source": [
    "df"
   ]
  },
  {
   "cell_type": "code",
   "execution_count": 9,
   "id": "410f3200",
   "metadata": {},
   "outputs": [
    {
     "data": {
      "image/png": "[encoded data removed]",
      "text/plain": [
       "<Figure size 640x480 with 1 Axes>"
      ]
     },
     "metadata": {},
     "output_type": "display_data"
    }
   ],
   "source": [
    "sns.histplot(df['Height']);"
   ]
  },
  {
   "cell_type": "code",
   "execution_count": 10,
   "id": "906a8478",
   "metadata": {},
   "outputs": [
    {
     "data": {
      "text/plain": [
       "3.8475281207732324"
      ]
     },
     "execution_count": 10,
     "metadata": {},
     "output_type": "execute_result"
    }
   ],
   "source": [
    "sigma=df['Height'].std()\n",
    "sigma"
   ]
  },
  {
   "cell_type": "code",
   "execution_count": 11,
   "id": "864c889b",
   "metadata": {},
   "outputs": [
    {
     "data": {
      "text/plain": [
       "66.36755975482124"
      ]
     },
     "execution_count": 11,
     "metadata": {},
     "output_type": "execute_result"
    }
   ],
   "source": [
    "mu=df['Height'].mean()\n",
    "mu"
   ]
  },
  {
   "cell_type": "code",
   "execution_count": 14,
   "id": "12d9302b",
   "metadata": {},
   "outputs": [
    {
     "data": {
      "text/plain": [
       "1946    68.446192\n",
       "1471    70.242816\n",
       "478     71.357382\n",
       "7589    64.378912\n",
       "6416    66.423944\n",
       "Name: Height, dtype: float64"
      ]
     },
     "execution_count": 14,
     "metadata": {},
     "output_type": "execute_result"
    }
   ],
   "source": [
    "df['Height'].sample(5) "
   ]
  },
  {
   "cell_type": "code",
   "execution_count": 15,
   "id": "9ce22f95",
   "metadata": {},
   "outputs": [
    {
     "data": {
      "text/plain": [
       "67.61805793446867"
      ]
     },
     "execution_count": 15,
     "metadata": {},
     "output_type": "execute_result"
    }
   ],
   "source": [
    "np.mean(df['Height'].sample(5))"
   ]
  },
  {
   "cell_type": "code",
   "execution_count": 16,
   "id": "e1a5ee5b",
   "metadata": {},
   "outputs": [
    {
     "data": {
      "text/plain": [
       "68.76497580959196"
      ]
     },
     "execution_count": 16,
     "metadata": {},
     "output_type": "execute_result"
    }
   ],
   "source": [
    "(df['Height'].sample(5)).mean()"
   ]
  },
  {
   "cell_type": "code",
   "execution_count": 17,
   "id": "bda4e03f",
   "metadata": {},
   "outputs": [],
   "source": [
    "sample_5=[np.mean(df['Height'].sample(5)) for i in range(10000)]"
   ]
  },
  {
   "cell_type": "code",
   "execution_count": 18,
   "id": "bc6fe5af",
   "metadata": {},
   "outputs": [
    {
     "data": {
      "image/png": "[encoded data removed]",
      "text/plain": [
       "<Figure size 640x480 with 1 Axes>"
      ]
     },
     "metadata": {},
     "output_type": "display_data"
    }
   ],
   "source": [
    "sns.histplot(sample_5);"
   ]
  },
  {
   "cell_type": "code",
   "execution_count": 19,
   "id": "7006e8bc",
   "metadata": {},
   "outputs": [],
   "source": [
    "from scipy.stats import norm"
   ]
  },
  {
   "cell_type": "code",
   "execution_count": 22,
   "id": "92f9ca24",
   "metadata": {},
   "outputs": [
    {
     "data": {
      "text/plain": [
       "0.7088403132116536"
      ]
     },
     "execution_count": 22,
     "metadata": {},
     "output_type": "execute_result"
    }
   ],
   "source": [
    "norm.cdf(x=1110,loc=1000,scale=200)"
   ]
  },
  {
   "cell_type": "code",
   "execution_count": 31,
   "id": "1ccf067f",
   "metadata": {},
   "outputs": [],
   "source": [
    "mean_5=[np.mean(df['Height'].sample(5)) for i in range(1,10000)]"
   ]
  },
  {
   "cell_type": "code",
   "execution_count": 32,
   "id": "0e759f98",
   "metadata": {},
   "outputs": [
    {
     "data": {
      "image/png": "[encoded data removed]",
      "text/plain": [
       "<Figure size 640x480 with 1 Axes>"
      ]
     },
     "metadata": {},
     "output_type": "display_data"
    }
   ],
   "source": [
    "sns.histplot(mean_5);"
   ]
  },
  {
   "cell_type": "code",
   "execution_count": 29,
   "id": "8d5b063e",
   "metadata": {},
   "outputs": [],
   "source": [
    "mean_20=[np.mean(df['Height'].sample(20)) for i in range(1,10000)]"
   ]
  },
  {
   "cell_type": "code",
   "execution_count": 30,
   "id": "82a08064",
   "metadata": {},
   "outputs": [
    {
     "data": {
      "image/png": "[encoded data removed]",
      "text/plain": [
       "<Figure size 640x480 with 1 Axes>"
      ]
     },
     "metadata": {},
     "output_type": "display_data"
    }
   ],
   "source": [
    "sns.histplot(mean_20);"
   ]
  },
  {
   "cell_type": "code",
   "execution_count": 35,
   "id": "045f82df",
   "metadata": {},
   "outputs": [
    {
     "data": {
      "text/plain": [
       "1.722360650418461"
      ]
     },
     "execution_count": 35,
     "metadata": {},
     "output_type": "execute_result"
    }
   ],
   "source": [
    "np.std(mean_5)"
   ]
  },
  {
   "cell_type": "code",
   "execution_count": 36,
   "id": "039b30e4",
   "metadata": {},
   "outputs": [
    {
     "data": {
      "text/plain": [
       "0.8626975389752263"
      ]
     },
     "execution_count": 36,
     "metadata": {},
     "output_type": "execute_result"
    }
   ],
   "source": [
    "np.std(mean_20)"
   ]
  },
  {
   "cell_type": "code",
   "execution_count": 37,
   "id": "428bdca7",
   "metadata": {},
   "outputs": [
    {
     "data": {
      "text/plain": [
       "66.37013648512335"
      ]
     },
     "execution_count": 37,
     "metadata": {},
     "output_type": "execute_result"
    }
   ],
   "source": [
    "np.mean(mean_5)"
   ]
  },
  {
   "cell_type": "code",
   "execution_count": 38,
   "id": "763d8791",
   "metadata": {},
   "outputs": [
    {
     "data": {
      "text/plain": [
       "66.36254706046493"
      ]
     },
     "execution_count": 38,
     "metadata": {},
     "output_type": "execute_result"
    }
   ],
   "source": [
    "np.mean(mean_20)"
   ]
  },
  {
   "cell_type": "code",
   "execution_count": 39,
   "id": "bf9425dc",
   "metadata": {},
   "outputs": [
    {
     "data": {
      "text/plain": [
       "0.55"
      ]
     },
     "execution_count": 39,
     "metadata": {},
     "output_type": "execute_result"
    }
   ],
   "source": [
    "(1110-1000)/200"
   ]
  },
  {
   "cell_type": "code",
   "execution_count": 41,
   "id": "759c08f2",
   "metadata": {},
   "outputs": [
    {
     "data": {
      "text/plain": [
       "0.29115968678834636"
      ]
     },
     "execution_count": 41,
     "metadata": {},
     "output_type": "execute_result"
    }
   ],
   "source": [
    "1-norm.cdf(.55)"
   ]
  },
  {
   "cell_type": "code",
   "execution_count": 42,
   "id": "bc2a791c",
   "metadata": {},
   "outputs": [
    {
     "data": {
      "text/plain": [
       "1.2"
      ]
     },
     "execution_count": 42,
     "metadata": {},
     "output_type": "execute_result"
    }
   ],
   "source": [
    "(125-122)/2.5"
   ]
  },
  {
   "cell_type": "code",
   "execution_count": 43,
   "id": "6556eebe",
   "metadata": {},
   "outputs": [
    {
     "data": {
      "text/plain": [
       "0.8849303297782918"
      ]
     },
     "execution_count": 43,
     "metadata": {},
     "output_type": "execute_result"
    }
   ],
   "source": [
    "norm.cdf(1.2)"
   ]
  },
  {
   "cell_type": "code",
   "execution_count": 44,
   "id": "adee98b3",
   "metadata": {},
   "outputs": [
    {
     "data": {
      "text/plain": [
       "0.11506967022170822"
      ]
     },
     "execution_count": 44,
     "metadata": {},
     "output_type": "execute_result"
    }
   ],
   "source": [
    "1-norm.cdf(1.2)"
   ]
  },
  {
   "cell_type": "code",
   "execution_count": 46,
   "id": "21886168",
   "metadata": {},
   "outputs": [
    {
     "data": {
      "text/plain": [
       "0.9829969773523672"
      ]
     },
     "execution_count": 46,
     "metadata": {},
     "output_type": "execute_result"
    }
   ],
   "source": [
    "norm.cdf(2.12)"
   ]
  },
  {
   "cell_type": "code",
   "execution_count": 47,
   "id": "fbb32e29",
   "metadata": {},
   "outputs": [
    {
     "data": {
      "text/plain": [
       "0.009174713090742248"
      ]
     },
     "execution_count": 47,
     "metadata": {},
     "output_type": "execute_result"
    }
   ],
   "source": [
    "norm.cdf(-5/2.12)"
   ]
  },
  {
   "cell_type": "code",
   "execution_count": 48,
   "id": "e661daab",
   "metadata": {},
   "outputs": [
    {
     "data": {
      "text/plain": [
       "0.6583631625489574"
      ]
     },
     "execution_count": 48,
     "metadata": {},
     "output_type": "execute_result"
    }
   ],
   "source": [
    "norm.cdf(.408)"
   ]
  },
  {
   "cell_type": "code",
   "execution_count": 50,
   "id": "d895d53d",
   "metadata": {},
   "outputs": [
    {
     "data": {
      "text/plain": [
       "0.02275013194817921"
      ]
     },
     "execution_count": 50,
     "metadata": {},
     "output_type": "execute_result"
    }
   ],
   "source": [
    "1-norm.cdf(x=60,loc=50,scale=5)"
   ]
  },
  {
   "cell_type": "code",
   "execution_count": 51,
   "id": "e809d4be",
   "metadata": {},
   "outputs": [
    {
     "data": {
      "text/plain": [
       "0.9772498680518208"
      ]
     },
     "execution_count": 51,
     "metadata": {},
     "output_type": "execute_result"
    }
   ],
   "source": [
    "norm.cdf(x=6,loc=4,scale=1)"
   ]
  },
  {
   "cell_type": "code",
   "execution_count": 52,
   "id": "5b81eeda",
   "metadata": {},
   "outputs": [
    {
     "data": {
      "text/plain": [
       "0.03593031911292488"
      ]
     },
     "execution_count": 52,
     "metadata": {},
     "output_type": "execute_result"
    }
   ],
   "source": [
    "1-norm.cdf(x=99.5,loc=98.6,scale=0.5)"
   ]
  },
  {
   "cell_type": "code",
   "execution_count": 54,
   "id": "7cda14dc",
   "metadata": {},
   "outputs": [
    {
     "data": {
      "text/plain": [
       "0.9999972591586737"
      ]
     },
     "execution_count": 54,
     "metadata": {},
     "output_type": "execute_result"
    }
   ],
   "source": [
    "norm.cdf(x=6,loc=4,scale=0.44)"
   ]
  },
  {
   "cell_type": "code",
   "execution_count": 59,
   "id": "957bb12b",
   "metadata": {},
   "outputs": [
    {
     "data": {
      "text/plain": [
       "0.00026600275256960515"
      ]
     },
     "execution_count": 59,
     "metadata": {},
     "output_type": "execute_result"
    }
   ],
   "source": [
    "1-norm.cdf(x=60,loc=50,scale=(5/np.sqrt(3)))"
   ]
  },
  {
   "cell_type": "code",
   "execution_count": 60,
   "id": "f5170198",
   "metadata": {},
   "outputs": [
    {
     "data": {
      "text/plain": [
       "0.7605853690971865"
      ]
     },
     "execution_count": 60,
     "metadata": {},
     "output_type": "execute_result"
    }
   ],
   "source": [
    "norm.cdf(x=92,loc=90,scale=(15/np.sqrt(35)))-norm.cdf(x=85,loc=90,scale=(15/np.sqrt(35)))"
   ]
  },
  {
   "cell_type": "code",
   "execution_count": 61,
   "id": "c9e17d64",
   "metadata": {},
   "outputs": [
    {
     "data": {
      "text/plain": [
       "0.9873263406612659"
      ]
     },
     "execution_count": 61,
     "metadata": {},
     "output_type": "execute_result"
    }
   ],
   "source": [
    "norm.cdf(x=5.5,loc=5,scale=(0.5/np.sqrt(5)))"
   ]
  },
  {
   "cell_type": "code",
   "execution_count": null,
   "id": "1e2c4797",
   "metadata": {},
   "outputs": [],
   "source": []
  }
 ],
 "metadata": {
  "kernelspec": {
   "display_name": "Python 3 (ipykernel)",
   "language": "python",
   "name": "python3"
  },
  "language_info": {
   "codemirror_mode": {
    "name": "ipython",
    "version": 3
   },
   "file_extension": ".py",
   "mimetype": "text/x-python",
   "name": "python",
   "nbconvert_exporter": "python",
   "pygments_lexer": "ipython3",
   "version": "3.11.5"
  }
 },
 "nbformat": 4,
 "nbformat_minor": 5
}
