{
 "cells": [
  {
   "cell_type": "code",
   "execution_count": 2,
   "id": "a802b2a0",
   "metadata": {},
   "outputs": [],
   "source": [
    "import numpy as np\n",
    "import pandas as pd\n",
    "import matplotlib.pyplot as plt\n",
    "import seaborn as sns"
   ]
  },
  {
   "cell_type": "code",
   "execution_count": 3,
   "id": "e12b8fc3",
   "metadata": {},
   "outputs": [
    {
     "name": "stdout",
     "output_type": "stream",
     "text": [
      "DV.ipynb\r\n",
      "Descriptive Stat.ipynb\r\n",
      "NPS.ipynb\r\n",
      "Netflix project II.ipynb\r\n",
      "Netflix project.ipynb\r\n",
      "Numpy Airbnb NPS final .ipynb\r\n",
      "Pandas Revision.ipynb\r\n",
      "Pandas final cut.ipynb\r\n",
      "Pfizer_1.csv\r\n",
      "\u001b[34mProb and Stat\u001b[m\u001b[m/\r\n",
      "Python Lib Rivision.ipynb\r\n",
      "Python revision.ipynb\r\n",
      "\u001b[34mSQL\u001b[m\u001b[m/\r\n",
      "These Are the 25 Smartest Dog Breeds, According to Science.jpeg\r\n",
      "Think Stats, 2nd Edition_ Exploratory Data Analysis ( PDFDrive ).pdf\r\n",
      "Untitled.ipynb\r\n",
      "clouds-2627945.jpg\r\n",
      "directors.csv\r\n",
      "figure.png\r\n",
      "final_vg.csv\r\n",
      "fit.txt\r\n",
      "gapminder.csv\r\n",
      "jupyterthemes.ipynb\r\n",
      "mckinsey.csv\r\n",
      "movies.csv\r\n",
      "sales (1).csv\r\n",
      "sales.csv\r\n",
      "storytelling-with-data-cole-nussbaumer-knaflic.pdf\r\n",
      "survey.txt\r\n"
     ]
    }
   ],
   "source": [
    "ls"
   ]
  },
  {
   "cell_type": "code",
   "execution_count": 4,
   "id": "bb511eae",
   "metadata": {},
   "outputs": [
    {
     "name": "stdout",
     "output_type": "stream",
     "text": [
      "/Users/jitendranathmahato/Downloads/Scaler/Prob and Stat\n"
     ]
    }
   ],
   "source": [
    "cd Prob and Stat/"
   ]
  },
  {
   "cell_type": "code",
   "execution_count": 5,
   "id": "e5dd2975",
   "metadata": {},
   "outputs": [
    {
     "name": "stdout",
     "output_type": "stream",
     "text": [
      "\u001b[34m01_Probability_Definitions\u001b[m\u001b[m/   \u001b[34m03_Bayes_Theorem_1\u001b[m\u001b[m/\r\n",
      "\u001b[34m02_Conditional_Probability_1\u001b[m\u001b[m/ \u001b[34m05_Descriptive_Statistics\u001b[m\u001b[m/\r\n"
     ]
    }
   ],
   "source": [
    "ls"
   ]
  },
  {
   "cell_type": "code",
   "execution_count": 6,
   "id": "c7d603ea",
   "metadata": {},
   "outputs": [
    {
     "name": "stdout",
     "output_type": "stream",
     "text": [
      "/Users/jitendranathmahato/Downloads/Scaler/Prob and Stat/05_Descriptive_Statistics\n"
     ]
    }
   ],
   "source": [
    "cd 05_Descriptive_Statistics/"
   ]
  },
  {
   "cell_type": "code",
   "execution_count": 7,
   "id": "f4065f1f",
   "metadata": {},
   "outputs": [
    {
     "name": "stdout",
     "output_type": "stream",
     "text": [
      "05_Descriptive_Statistics_Notebook.ipynb\r\n",
      "05_Descriptive_Statistics_Notebook.pdf\r\n",
      "05_Descriptive_Statistics_Scribble_Notes.pdf\r\n",
      "05_Descriptive_Statistics_Typed_Notes.pdf\r\n",
      "dravid.csv\r\n",
      "sehwag.csv\r\n",
      "weight-height.csv\r\n"
     ]
    }
   ],
   "source": [
    "ls"
   ]
  },
  {
   "cell_type": "code",
   "execution_count": 8,
   "id": "8d4cb4f7",
   "metadata": {},
   "outputs": [],
   "source": [
    "sehwag=pd.read_csv(\"sehwag.csv\")\n",
    "dravid=pd.read_csv(\"dravid.csv\")"
   ]
  },
  {
   "cell_type": "code",
   "execution_count": 9,
   "id": "6aa48ed6",
   "metadata": {},
   "outputs": [
    {
     "data": {
      "text/plain": [
       "(245, 14)"
      ]
     },
     "execution_count": 9,
     "metadata": {},
     "output_type": "execute_result"
    }
   ],
   "source": [
    "sehwag.shape         "
   ]
  },
  {
   "cell_type": "code",
   "execution_count": 10,
   "id": "42b730bf",
   "metadata": {},
   "outputs": [
    {
     "data": {
      "text/plain": [
       "(318, 14)"
      ]
     },
     "execution_count": 10,
     "metadata": {},
     "output_type": "execute_result"
    }
   ],
   "source": [
    "dravid.shape"
   ]
  },
  {
   "cell_type": "code",
   "execution_count": 11,
   "id": "f3c6e48e",
   "metadata": {},
   "outputs": [
    {
     "data": {
      "text/plain": [
       "73"
      ]
     },
     "execution_count": 11,
     "metadata": {},
     "output_type": "execute_result"
    }
   ],
   "source": [
    "dravid.shape[0]-sehwag.shape[0]"
   ]
  },
  {
   "cell_type": "code",
   "execution_count": 12,
   "id": "9fcd7f62",
   "metadata": {},
   "outputs": [
    {
     "data": {
      "text/html": [
       "<div>\n",
       "<style scoped>\n",
       "    .dataframe tbody tr th:only-of-type {\n",
       "        vertical-align: middle;\n",
       "    }\n",
       "\n",
       "    .dataframe tbody tr th {\n",
       "        vertical-align: top;\n",
       "    }\n",
       "\n",
       "    .dataframe thead th {\n",
       "        text-align: right;\n",
       "    }\n",
       "</style>\n",
       "<table border=\"1\" class=\"dataframe\">\n",
       "  <thead>\n",
       "    <tr style=\"text-align: right;\">\n",
       "      <th></th>\n",
       "      <th>Runs</th>\n",
       "      <th>Mins</th>\n",
       "      <th>BF</th>\n",
       "      <th>4s</th>\n",
       "      <th>6s</th>\n",
       "      <th>SR</th>\n",
       "      <th>Pos</th>\n",
       "      <th>Dismissal</th>\n",
       "      <th>Inns</th>\n",
       "      <th>Unnamed: 9</th>\n",
       "      <th>Opposition</th>\n",
       "      <th>Ground</th>\n",
       "      <th>Start Date</th>\n",
       "      <th>Unnamed: 13</th>\n",
       "    </tr>\n",
       "  </thead>\n",
       "  <tbody>\n",
       "    <tr>\n",
       "      <th>0</th>\n",
       "      <td>1</td>\n",
       "      <td>5</td>\n",
       "      <td>2</td>\n",
       "      <td>0</td>\n",
       "      <td>0</td>\n",
       "      <td>50.00</td>\n",
       "      <td>7</td>\n",
       "      <td>lbw</td>\n",
       "      <td>1</td>\n",
       "      <td>NaN</td>\n",
       "      <td>v Pakistan</td>\n",
       "      <td>Mohali</td>\n",
       "      <td>1 Apr 1999</td>\n",
       "      <td>ODI # 1427</td>\n",
       "    </tr>\n",
       "    <tr>\n",
       "      <th>1</th>\n",
       "      <td>19</td>\n",
       "      <td>18</td>\n",
       "      <td>24</td>\n",
       "      <td>0</td>\n",
       "      <td>1</td>\n",
       "      <td>79.16</td>\n",
       "      <td>6</td>\n",
       "      <td>caught</td>\n",
       "      <td>1</td>\n",
       "      <td>NaN</td>\n",
       "      <td>v Zimbabwe</td>\n",
       "      <td>Rajkot</td>\n",
       "      <td>14 Dec 2000</td>\n",
       "      <td>ODI # 1660</td>\n",
       "    </tr>\n",
       "    <tr>\n",
       "      <th>2</th>\n",
       "      <td>58</td>\n",
       "      <td>62</td>\n",
       "      <td>54</td>\n",
       "      <td>8</td>\n",
       "      <td>0</td>\n",
       "      <td>107.40</td>\n",
       "      <td>6</td>\n",
       "      <td>bowled</td>\n",
       "      <td>1</td>\n",
       "      <td>NaN</td>\n",
       "      <td>v Australia</td>\n",
       "      <td>Bengaluru</td>\n",
       "      <td>25 Mar 2001</td>\n",
       "      <td>ODI # 1696</td>\n",
       "    </tr>\n",
       "    <tr>\n",
       "      <th>3</th>\n",
       "      <td>2</td>\n",
       "      <td>7</td>\n",
       "      <td>7</td>\n",
       "      <td>0</td>\n",
       "      <td>0</td>\n",
       "      <td>28.57</td>\n",
       "      <td>6</td>\n",
       "      <td>caught</td>\n",
       "      <td>2</td>\n",
       "      <td>NaN</td>\n",
       "      <td>v Zimbabwe</td>\n",
       "      <td>Bulawayo</td>\n",
       "      <td>27 Jun 2001</td>\n",
       "      <td>ODI # 1730</td>\n",
       "    </tr>\n",
       "    <tr>\n",
       "      <th>4</th>\n",
       "      <td>11</td>\n",
       "      <td>19</td>\n",
       "      <td>16</td>\n",
       "      <td>1</td>\n",
       "      <td>0</td>\n",
       "      <td>68.75</td>\n",
       "      <td>6</td>\n",
       "      <td>not out</td>\n",
       "      <td>2</td>\n",
       "      <td>NaN</td>\n",
       "      <td>v West Indies</td>\n",
       "      <td>Bulawayo</td>\n",
       "      <td>30 Jun 2001</td>\n",
       "      <td>ODI # 1731</td>\n",
       "    </tr>\n",
       "  </tbody>\n",
       "</table>\n",
       "</div>"
      ],
      "text/plain": [
       "   Runs Mins  BF  4s  6s      SR  Pos Dismissal  Inns  Unnamed: 9  \\\n",
       "0     1    5   2   0   0   50.00    7       lbw     1         NaN   \n",
       "1    19   18  24   0   1   79.16    6    caught     1         NaN   \n",
       "2    58   62  54   8   0  107.40    6    bowled     1         NaN   \n",
       "3     2    7   7   0   0   28.57    6    caught     2         NaN   \n",
       "4    11   19  16   1   0   68.75    6   not out     2         NaN   \n",
       "\n",
       "      Opposition     Ground   Start Date Unnamed: 13  \n",
       "0     v Pakistan     Mohali   1 Apr 1999  ODI # 1427  \n",
       "1     v Zimbabwe     Rajkot  14 Dec 2000  ODI # 1660  \n",
       "2    v Australia  Bengaluru  25 Mar 2001  ODI # 1696  \n",
       "3     v Zimbabwe   Bulawayo  27 Jun 2001  ODI # 1730  \n",
       "4  v West Indies   Bulawayo  30 Jun 2001  ODI # 1731  "
      ]
     },
     "execution_count": 12,
     "metadata": {},
     "output_type": "execute_result"
    }
   ],
   "source": [
    "sehwag.head()"
   ]
  },
  {
   "cell_type": "code",
   "execution_count": 13,
   "id": "792d7390",
   "metadata": {},
   "outputs": [
    {
     "data": {
      "text/plain": [
       "8.0"
      ]
     },
     "execution_count": 13,
     "metadata": {},
     "output_type": "execute_result"
    }
   ],
   "source": [
    "p25=np.percentile(sehwag[\"Runs\"],25) #percentage of Q1\n",
    "p25"
   ]
  },
  {
   "cell_type": "code",
   "execution_count": 14,
   "id": "74decbe3",
   "metadata": {},
   "outputs": [
    {
     "data": {
      "text/plain": [
       "23.0"
      ]
     },
     "execution_count": 14,
     "metadata": {},
     "output_type": "execute_result"
    }
   ],
   "source": [
    "p50=np.percentile(sehwag[\"Runs\"],50) #percentage of Q2\n",
    "p50"
   ]
  },
  {
   "cell_type": "code",
   "execution_count": 15,
   "id": "3ebcb9d0",
   "metadata": {},
   "outputs": [
    {
     "data": {
      "text/plain": [
       "46.0"
      ]
     },
     "execution_count": 15,
     "metadata": {},
     "output_type": "execute_result"
    }
   ],
   "source": [
    "p75=np.percentile(sehwag['Runs'],75) #percentage of Q3\n",
    "p75"
   ]
  },
  {
   "cell_type": "code",
   "execution_count": 16,
   "id": "f2ab6399",
   "metadata": {},
   "outputs": [
    {
     "data": {
      "text/plain": [
       "38.0"
      ]
     },
     "execution_count": 16,
     "metadata": {},
     "output_type": "execute_result"
    }
   ],
   "source": [
    "iqr=p75-p25\n",
    "iqr"
   ]
  },
  {
   "cell_type": "code",
   "execution_count": 17,
   "id": "664325c3",
   "metadata": {},
   "outputs": [
    {
     "data": {
      "text/plain": [
       "219"
      ]
     },
     "execution_count": 17,
     "metadata": {},
     "output_type": "execute_result"
    }
   ],
   "source": [
    "range1=(sehwag['Runs'].max()-sehwag['Runs'].min())\n",
    "range1"
   ]
  },
  {
   "cell_type": "code",
   "execution_count": 18,
   "id": "bc208fd8",
   "metadata": {},
   "outputs": [
    {
     "data": {
      "text/plain": [
       "8.0"
      ]
     },
     "execution_count": 18,
     "metadata": {},
     "output_type": "execute_result"
    }
   ],
   "source": [
    "sehwag['Runs'].quantile(.25)"
   ]
  },
  {
   "cell_type": "code",
   "execution_count": 19,
   "id": "d0b58e8f",
   "metadata": {},
   "outputs": [
    {
     "data": {
      "text/plain": [
       "23.0"
      ]
     },
     "execution_count": 19,
     "metadata": {},
     "output_type": "execute_result"
    }
   ],
   "source": [
    "sehwag['Runs'].quantile(.50)"
   ]
  },
  {
   "cell_type": "code",
   "execution_count": 20,
   "id": "ba3cd5ef",
   "metadata": {},
   "outputs": [
    {
     "data": {
      "text/plain": [
       "46.0"
      ]
     },
     "execution_count": 20,
     "metadata": {},
     "output_type": "execute_result"
    }
   ],
   "source": [
    "sehwag['Runs'].quantile(.75)"
   ]
  },
  {
   "cell_type": "code",
   "execution_count": 21,
   "id": "ec883495",
   "metadata": {},
   "outputs": [
    {
     "data": {
      "text/plain": [
       "0"
      ]
     },
     "execution_count": 21,
     "metadata": {},
     "output_type": "execute_result"
    }
   ],
   "source": [
    "lower=max(p25-(1.5*iqr),0)\n",
    "lower"
   ]
  },
  {
   "cell_type": "code",
   "execution_count": 22,
   "id": "011b7216",
   "metadata": {},
   "outputs": [
    {
     "data": {
      "text/plain": [
       "103.0"
      ]
     },
     "execution_count": 22,
     "metadata": {},
     "output_type": "execute_result"
    }
   ],
   "source": [
    "upper=min(p75+(1.5*iqr),sehwag['Runs'].max())\n",
    "upper"
   ]
  },
  {
   "cell_type": "code",
   "execution_count": 23,
   "id": "f8b8fbc9",
   "metadata": {},
   "outputs": [
    {
     "data": {
      "image/png": "[encoded data removed]",
      "text/plain": [
       "<Figure size 640x480 with 1 Axes>"
      ]
     },
     "metadata": {},
     "output_type": "display_data"
    }
   ],
   "source": [
    "sns.boxplot(x=sehwag['Runs'])\n",
    "plt.show()"
   ]
  },
  {
   "cell_type": "code",
   "execution_count": 24,
   "id": "596ef1e8",
   "metadata": {},
   "outputs": [
    {
     "data": {
      "text/html": [
       "<div>\n",
       "<style scoped>\n",
       "    .dataframe tbody tr th:only-of-type {\n",
       "        vertical-align: middle;\n",
       "    }\n",
       "\n",
       "    .dataframe tbody tr th {\n",
       "        vertical-align: top;\n",
       "    }\n",
       "\n",
       "    .dataframe thead th {\n",
       "        text-align: right;\n",
       "    }\n",
       "</style>\n",
       "<table border=\"1\" class=\"dataframe\">\n",
       "  <thead>\n",
       "    <tr style=\"text-align: right;\">\n",
       "      <th></th>\n",
       "      <th>Runs</th>\n",
       "      <th>Mins</th>\n",
       "      <th>BF</th>\n",
       "      <th>4s</th>\n",
       "      <th>6s</th>\n",
       "      <th>SR</th>\n",
       "      <th>Pos</th>\n",
       "      <th>Dismissal</th>\n",
       "      <th>Inns</th>\n",
       "      <th>Unnamed: 9</th>\n",
       "      <th>Opposition</th>\n",
       "      <th>Ground</th>\n",
       "      <th>Start Date</th>\n",
       "      <th>Unnamed: 13</th>\n",
       "    </tr>\n",
       "  </thead>\n",
       "  <tbody>\n",
       "    <tr>\n",
       "      <th>37</th>\n",
       "      <td>126</td>\n",
       "      <td>136</td>\n",
       "      <td>104</td>\n",
       "      <td>21</td>\n",
       "      <td>1</td>\n",
       "      <td>121.15</td>\n",
       "      <td>1</td>\n",
       "      <td>caught</td>\n",
       "      <td>2</td>\n",
       "      <td>NaN</td>\n",
       "      <td>v England</td>\n",
       "      <td>Colombo (RPS)</td>\n",
       "      <td>22 Sep 2002</td>\n",
       "      <td>ODI # 1884</td>\n",
       "    </tr>\n",
       "    <tr>\n",
       "      <th>43</th>\n",
       "      <td>114</td>\n",
       "      <td>-</td>\n",
       "      <td>82</td>\n",
       "      <td>17</td>\n",
       "      <td>2</td>\n",
       "      <td>139.02</td>\n",
       "      <td>2</td>\n",
       "      <td>not out</td>\n",
       "      <td>2</td>\n",
       "      <td>NaN</td>\n",
       "      <td>v West Indies</td>\n",
       "      <td>Rajkot</td>\n",
       "      <td>12 Nov 2002</td>\n",
       "      <td>ODI # 1895</td>\n",
       "    </tr>\n",
       "    <tr>\n",
       "      <th>49</th>\n",
       "      <td>108</td>\n",
       "      <td>160</td>\n",
       "      <td>119</td>\n",
       "      <td>9</td>\n",
       "      <td>2</td>\n",
       "      <td>90.75</td>\n",
       "      <td>2</td>\n",
       "      <td>run out</td>\n",
       "      <td>2</td>\n",
       "      <td>NaN</td>\n",
       "      <td>v New Zealand</td>\n",
       "      <td>Napier</td>\n",
       "      <td>29 Dec 2002</td>\n",
       "      <td>ODI # 1927</td>\n",
       "    </tr>\n",
       "    <tr>\n",
       "      <th>53</th>\n",
       "      <td>112</td>\n",
       "      <td>175</td>\n",
       "      <td>139</td>\n",
       "      <td>11</td>\n",
       "      <td>3</td>\n",
       "      <td>80.57</td>\n",
       "      <td>2</td>\n",
       "      <td>caught</td>\n",
       "      <td>2</td>\n",
       "      <td>NaN</td>\n",
       "      <td>v New Zealand</td>\n",
       "      <td>Auckland</td>\n",
       "      <td>11 Jan 2003</td>\n",
       "      <td>ODI # 1933</td>\n",
       "    </tr>\n",
       "    <tr>\n",
       "      <th>75</th>\n",
       "      <td>130</td>\n",
       "      <td>193</td>\n",
       "      <td>134</td>\n",
       "      <td>15</td>\n",
       "      <td>2</td>\n",
       "      <td>97.01</td>\n",
       "      <td>1</td>\n",
       "      <td>caught</td>\n",
       "      <td>1</td>\n",
       "      <td>NaN</td>\n",
       "      <td>v New Zealand</td>\n",
       "      <td>Hyderabad (Deccan)</td>\n",
       "      <td>15 Nov 2003</td>\n",
       "      <td>ODI # 2062</td>\n",
       "    </tr>\n",
       "    <tr>\n",
       "      <th>104</th>\n",
       "      <td>108</td>\n",
       "      <td>156</td>\n",
       "      <td>95</td>\n",
       "      <td>9</td>\n",
       "      <td>3</td>\n",
       "      <td>113.68</td>\n",
       "      <td>1</td>\n",
       "      <td>bowled</td>\n",
       "      <td>1</td>\n",
       "      <td>NaN</td>\n",
       "      <td>v Pakistan</td>\n",
       "      <td>Kochi</td>\n",
       "      <td>2 Apr 2005</td>\n",
       "      <td>ODI # 2235</td>\n",
       "    </tr>\n",
       "    <tr>\n",
       "      <th>163</th>\n",
       "      <td>114</td>\n",
       "      <td>127</td>\n",
       "      <td>87</td>\n",
       "      <td>17</td>\n",
       "      <td>3</td>\n",
       "      <td>131.03</td>\n",
       "      <td>3</td>\n",
       "      <td>caught</td>\n",
       "      <td>1</td>\n",
       "      <td>NaN</td>\n",
       "      <td>v Bermuda</td>\n",
       "      <td>Port of Spain</td>\n",
       "      <td>19 Mar 2007</td>\n",
       "      <td>ODI # 2542</td>\n",
       "    </tr>\n",
       "    <tr>\n",
       "      <th>182</th>\n",
       "      <td>119</td>\n",
       "      <td>150</td>\n",
       "      <td>95</td>\n",
       "      <td>12</td>\n",
       "      <td>5</td>\n",
       "      <td>125.26</td>\n",
       "      <td>2</td>\n",
       "      <td>caught</td>\n",
       "      <td>2</td>\n",
       "      <td>NaN</td>\n",
       "      <td>v Pakistan</td>\n",
       "      <td>Karachi</td>\n",
       "      <td>26 Jun 2008</td>\n",
       "      <td>ODI # 2717</td>\n",
       "    </tr>\n",
       "    <tr>\n",
       "      <th>192</th>\n",
       "      <td>116</td>\n",
       "      <td>165</td>\n",
       "      <td>90</td>\n",
       "      <td>17</td>\n",
       "      <td>0</td>\n",
       "      <td>128.88</td>\n",
       "      <td>1</td>\n",
       "      <td>run out</td>\n",
       "      <td>1</td>\n",
       "      <td>NaN</td>\n",
       "      <td>v Sri Lanka</td>\n",
       "      <td>Colombo (RPS)</td>\n",
       "      <td>3 Feb 2009</td>\n",
       "      <td>ODI # 2813</td>\n",
       "    </tr>\n",
       "    <tr>\n",
       "      <th>198</th>\n",
       "      <td>125</td>\n",
       "      <td>106</td>\n",
       "      <td>74</td>\n",
       "      <td>14</td>\n",
       "      <td>6</td>\n",
       "      <td>168.91</td>\n",
       "      <td>2</td>\n",
       "      <td>not out</td>\n",
       "      <td>2</td>\n",
       "      <td>NaN</td>\n",
       "      <td>v New Zealand</td>\n",
       "      <td>Hamilton</td>\n",
       "      <td>11 Mar 2009</td>\n",
       "      <td>ODI # 2824</td>\n",
       "    </tr>\n",
       "    <tr>\n",
       "      <th>206</th>\n",
       "      <td>146</td>\n",
       "      <td>166</td>\n",
       "      <td>102</td>\n",
       "      <td>17</td>\n",
       "      <td>6</td>\n",
       "      <td>143.13</td>\n",
       "      <td>1</td>\n",
       "      <td>caught</td>\n",
       "      <td>1</td>\n",
       "      <td>NaN</td>\n",
       "      <td>v Sri Lanka</td>\n",
       "      <td>Rajkot</td>\n",
       "      <td>15 Dec 2009</td>\n",
       "      <td>ODI # 2932</td>\n",
       "    </tr>\n",
       "    <tr>\n",
       "      <th>220</th>\n",
       "      <td>110</td>\n",
       "      <td>136</td>\n",
       "      <td>93</td>\n",
       "      <td>16</td>\n",
       "      <td>1</td>\n",
       "      <td>118.27</td>\n",
       "      <td>2</td>\n",
       "      <td>caught</td>\n",
       "      <td>1</td>\n",
       "      <td>NaN</td>\n",
       "      <td>v New Zealand</td>\n",
       "      <td>Dambulla</td>\n",
       "      <td>25 Aug 2010</td>\n",
       "      <td>ODI # 3039</td>\n",
       "    </tr>\n",
       "    <tr>\n",
       "      <th>222</th>\n",
       "      <td>175</td>\n",
       "      <td>198</td>\n",
       "      <td>140</td>\n",
       "      <td>14</td>\n",
       "      <td>5</td>\n",
       "      <td>125.00</td>\n",
       "      <td>1</td>\n",
       "      <td>bowled</td>\n",
       "      <td>1</td>\n",
       "      <td>NaN</td>\n",
       "      <td>v Bangladesh</td>\n",
       "      <td>Mirpur</td>\n",
       "      <td>19 Feb 2011</td>\n",
       "      <td>ODI # 3100</td>\n",
       "    </tr>\n",
       "    <tr>\n",
       "      <th>233</th>\n",
       "      <td>219</td>\n",
       "      <td>208</td>\n",
       "      <td>149</td>\n",
       "      <td>25</td>\n",
       "      <td>7</td>\n",
       "      <td>146.97</td>\n",
       "      <td>2</td>\n",
       "      <td>caught</td>\n",
       "      <td>1</td>\n",
       "      <td>NaN</td>\n",
       "      <td>v West Indies</td>\n",
       "      <td>Indore</td>\n",
       "      <td>8 Dec 2011</td>\n",
       "      <td>ODI # 3223</td>\n",
       "    </tr>\n",
       "  </tbody>\n",
       "</table>\n",
       "</div>"
      ],
      "text/plain": [
       "     Runs Mins   BF  4s  6s      SR  Pos Dismissal  Inns  Unnamed: 9  \\\n",
       "37    126  136  104  21   1  121.15    1    caught     2         NaN   \n",
       "43    114    -   82  17   2  139.02    2   not out     2         NaN   \n",
       "49    108  160  119   9   2   90.75    2   run out     2         NaN   \n",
       "53    112  175  139  11   3   80.57    2    caught     2         NaN   \n",
       "75    130  193  134  15   2   97.01    1    caught     1         NaN   \n",
       "104   108  156   95   9   3  113.68    1    bowled     1         NaN   \n",
       "163   114  127   87  17   3  131.03    3    caught     1         NaN   \n",
       "182   119  150   95  12   5  125.26    2    caught     2         NaN   \n",
       "192   116  165   90  17   0  128.88    1   run out     1         NaN   \n",
       "198   125  106   74  14   6  168.91    2   not out     2         NaN   \n",
       "206   146  166  102  17   6  143.13    1    caught     1         NaN   \n",
       "220   110  136   93  16   1  118.27    2    caught     1         NaN   \n",
       "222   175  198  140  14   5  125.00    1    bowled     1         NaN   \n",
       "233   219  208  149  25   7  146.97    2    caught     1         NaN   \n",
       "\n",
       "        Opposition              Ground   Start Date Unnamed: 13  \n",
       "37       v England       Colombo (RPS)  22 Sep 2002  ODI # 1884  \n",
       "43   v West Indies              Rajkot  12 Nov 2002  ODI # 1895  \n",
       "49   v New Zealand              Napier  29 Dec 2002  ODI # 1927  \n",
       "53   v New Zealand            Auckland  11 Jan 2003  ODI # 1933  \n",
       "75   v New Zealand  Hyderabad (Deccan)  15 Nov 2003  ODI # 2062  \n",
       "104     v Pakistan               Kochi   2 Apr 2005  ODI # 2235  \n",
       "163      v Bermuda       Port of Spain  19 Mar 2007  ODI # 2542  \n",
       "182     v Pakistan             Karachi  26 Jun 2008  ODI # 2717  \n",
       "192    v Sri Lanka       Colombo (RPS)   3 Feb 2009  ODI # 2813  \n",
       "198  v New Zealand            Hamilton  11 Mar 2009  ODI # 2824  \n",
       "206    v Sri Lanka              Rajkot  15 Dec 2009  ODI # 2932  \n",
       "220  v New Zealand            Dambulla  25 Aug 2010  ODI # 3039  \n",
       "222   v Bangladesh              Mirpur  19 Feb 2011  ODI # 3100  \n",
       "233  v West Indies              Indore   8 Dec 2011  ODI # 3223  "
      ]
     },
     "execution_count": 24,
     "metadata": {},
     "output_type": "execute_result"
    }
   ],
   "source": [
    "sehwag_outlier=sehwag[sehwag['Runs']>upper]\n",
    "sehwag_outlier"
   ]
  },
  {
   "cell_type": "code",
   "execution_count": 25,
   "id": "a420ca3e",
   "metadata": {},
   "outputs": [
    {
     "data": {
      "text/plain": [
       "(14,)"
      ]
     },
     "execution_count": 25,
     "metadata": {},
     "output_type": "execute_result"
    }
   ],
   "source": [
    "sehwag_outlier['Runs'].shape"
   ]
  },
  {
   "cell_type": "code",
   "execution_count": 26,
   "id": "34cd2ba2",
   "metadata": {},
   "outputs": [
    {
     "data": {
      "text/plain": [
       "(245, 14)"
      ]
     },
     "execution_count": 26,
     "metadata": {},
     "output_type": "execute_result"
    }
   ],
   "source": [
    "sehwag.shape"
   ]
  },
  {
   "cell_type": "code",
   "execution_count": 27,
   "id": "02727cde",
   "metadata": {},
   "outputs": [
    {
     "data": {
      "text/plain": [
       "0.05714285714285714"
      ]
     },
     "execution_count": 27,
     "metadata": {},
     "output_type": "execute_result"
    }
   ],
   "source": [
    "14/245"
   ]
  },
  {
   "cell_type": "code",
   "execution_count": 28,
   "id": "635d030c",
   "metadata": {},
   "outputs": [
    {
     "data": {
      "text/plain": [
       "(245, 14)"
      ]
     },
     "execution_count": 28,
     "metadata": {},
     "output_type": "execute_result"
    }
   ],
   "source": [
    "sehwag.shape"
   ]
  },
  {
   "cell_type": "code",
   "execution_count": 29,
   "id": "c6caa5c2",
   "metadata": {},
   "outputs": [
    {
     "data": {
      "text/plain": [
       "(318, 14)"
      ]
     },
     "execution_count": 29,
     "metadata": {},
     "output_type": "execute_result"
    }
   ],
   "source": [
    "dravid.shape"
   ]
  },
  {
   "cell_type": "code",
   "execution_count": 30,
   "id": "adfe86a4",
   "metadata": {},
   "outputs": [
    {
     "data": {
      "text/plain": [
       "8.0"
      ]
     },
     "execution_count": 30,
     "metadata": {},
     "output_type": "execute_result"
    }
   ],
   "source": [
    "p25=np.percentile(sehwag['Runs'],25)\n",
    "p25"
   ]
  },
  {
   "cell_type": "code",
   "execution_count": 31,
   "id": "98230d3e",
   "metadata": {},
   "outputs": [
    {
     "data": {
      "text/plain": [
       "23.0"
      ]
     },
     "execution_count": 31,
     "metadata": {},
     "output_type": "execute_result"
    }
   ],
   "source": [
    "p50=np.percentile(sehwag['Runs'],50)\n",
    "p50"
   ]
  },
  {
   "cell_type": "code",
   "execution_count": 32,
   "id": "3898139b",
   "metadata": {},
   "outputs": [
    {
     "data": {
      "text/plain": [
       "46.0"
      ]
     },
     "execution_count": 32,
     "metadata": {},
     "output_type": "execute_result"
    }
   ],
   "source": [
    "p75=np.percentile(sehwag['Runs'],75)\n",
    "p75"
   ]
  },
  {
   "cell_type": "code",
   "execution_count": 33,
   "id": "92ba18f4",
   "metadata": {},
   "outputs": [
    {
     "data": {
      "text/plain": [
       "38.0"
      ]
     },
     "execution_count": 33,
     "metadata": {},
     "output_type": "execute_result"
    }
   ],
   "source": [
    "iqr=p75-p25\n",
    "iqr"
   ]
  },
  {
   "cell_type": "code",
   "execution_count": 34,
   "id": "bc149e8d",
   "metadata": {},
   "outputs": [
    {
     "data": {
      "text/plain": [
       "219"
      ]
     },
     "execution_count": 34,
     "metadata": {},
     "output_type": "execute_result"
    }
   ],
   "source": [
    "sehwag_max_runs=sehwag['Runs'].max()\n",
    "sehwag_max_runs"
   ]
  },
  {
   "cell_type": "code",
   "execution_count": 35,
   "id": "403d3422",
   "metadata": {},
   "outputs": [
    {
     "data": {
      "text/plain": [
       "0"
      ]
     },
     "execution_count": 35,
     "metadata": {},
     "output_type": "execute_result"
    }
   ],
   "source": [
    "sehwag_min_runs=sehwag['Runs'].min()\n",
    "sehwag_min_runs"
   ]
  },
  {
   "cell_type": "code",
   "execution_count": 36,
   "id": "47ddc062",
   "metadata": {},
   "outputs": [
    {
     "data": {
      "text/plain": [
       "219"
      ]
     },
     "execution_count": 36,
     "metadata": {},
     "output_type": "execute_result"
    }
   ],
   "source": [
    "rangee=sehwag_max_runs-sehwag_min_runs\n",
    "rangee"
   ]
  },
  {
   "cell_type": "code",
   "execution_count": 37,
   "id": "b34ee9a7",
   "metadata": {},
   "outputs": [
    {
     "data": {
      "text/plain": [
       "8.0"
      ]
     },
     "execution_count": 37,
     "metadata": {},
     "output_type": "execute_result"
    }
   ],
   "source": [
    "sehwag['Runs'].quantile(.25)"
   ]
  },
  {
   "cell_type": "code",
   "execution_count": 38,
   "id": "2ee1d779",
   "metadata": {},
   "outputs": [
    {
     "data": {
      "text/plain": [
       "23.0"
      ]
     },
     "execution_count": 38,
     "metadata": {},
     "output_type": "execute_result"
    }
   ],
   "source": [
    "sehwag['Runs'].quantile(.50)"
   ]
  },
  {
   "cell_type": "code",
   "execution_count": 39,
   "id": "8f79afa2",
   "metadata": {},
   "outputs": [
    {
     "data": {
      "text/plain": [
       "46.0"
      ]
     },
     "execution_count": 39,
     "metadata": {},
     "output_type": "execute_result"
    }
   ],
   "source": [
    "sehwag['Runs'].quantile(.75)"
   ]
  },
  {
   "cell_type": "code",
   "execution_count": 40,
   "id": "a7a43c91",
   "metadata": {},
   "outputs": [
    {
     "data": {
      "text/plain": [
       "-30.0"
      ]
     },
     "execution_count": 40,
     "metadata": {},
     "output_type": "execute_result"
    }
   ],
   "source": [
    "# lower wisker = Q1-1.5(iqr) \n",
    "lower_wisker=p25-1*(iqr)\n",
    "lower_wisker"
   ]
  },
  {
   "cell_type": "code",
   "execution_count": 41,
   "id": "f7462bd7",
   "metadata": {},
   "outputs": [
    {
     "data": {
      "text/plain": [
       "0"
      ]
     },
     "execution_count": 41,
     "metadata": {},
     "output_type": "execute_result"
    }
   ],
   "source": [
    "# lower wisker = Q1-1.5(iqr) \n",
    "lower_wisker=max(p25-1.5*(iqr),sehwag['Runs'].min())\n",
    "lower_wisker"
   ]
  },
  {
   "cell_type": "code",
   "execution_count": 42,
   "id": "531efcd0",
   "metadata": {},
   "outputs": [
    {
     "data": {
      "text/plain": [
       "103.0"
      ]
     },
     "execution_count": 42,
     "metadata": {},
     "output_type": "execute_result"
    }
   ],
   "source": [
    "# upper wisker = Q3+1.5(iqr)\n",
    "upper_wisker=min(p75+1.5*(iqr),sehwag['Runs'].max())\n",
    "upper_wisker"
   ]
  },
  {
   "cell_type": "code",
   "execution_count": 43,
   "id": "7a71745e",
   "metadata": {},
   "outputs": [
    {
     "data": {
      "image/png": "[encoded data removed]",
      "text/plain": [
       "<Figure size 640x480 with 1 Axes>"
      ]
     },
     "metadata": {},
     "output_type": "display_data"
    }
   ],
   "source": [
    "sns.boxplot(x=sehwag['Runs'])\n",
    "plt.show()"
   ]
  },
  {
   "cell_type": "code",
   "execution_count": 44,
   "id": "e896cb0d",
   "metadata": {},
   "outputs": [
    {
     "data": {
      "text/html": [
       "<div>\n",
       "<style scoped>\n",
       "    .dataframe tbody tr th:only-of-type {\n",
       "        vertical-align: middle;\n",
       "    }\n",
       "\n",
       "    .dataframe tbody tr th {\n",
       "        vertical-align: top;\n",
       "    }\n",
       "\n",
       "    .dataframe thead th {\n",
       "        text-align: right;\n",
       "    }\n",
       "</style>\n",
       "<table border=\"1\" class=\"dataframe\">\n",
       "  <thead>\n",
       "    <tr style=\"text-align: right;\">\n",
       "      <th></th>\n",
       "      <th>Runs</th>\n",
       "      <th>Mins</th>\n",
       "      <th>BF</th>\n",
       "      <th>4s</th>\n",
       "      <th>6s</th>\n",
       "      <th>SR</th>\n",
       "      <th>Pos</th>\n",
       "      <th>Dismissal</th>\n",
       "      <th>Inns</th>\n",
       "      <th>Unnamed: 9</th>\n",
       "      <th>Opposition</th>\n",
       "      <th>Ground</th>\n",
       "      <th>Start Date</th>\n",
       "      <th>Unnamed: 13</th>\n",
       "    </tr>\n",
       "  </thead>\n",
       "  <tbody>\n",
       "    <tr>\n",
       "      <th>37</th>\n",
       "      <td>126</td>\n",
       "      <td>136</td>\n",
       "      <td>104</td>\n",
       "      <td>21</td>\n",
       "      <td>1</td>\n",
       "      <td>121.15</td>\n",
       "      <td>1</td>\n",
       "      <td>caught</td>\n",
       "      <td>2</td>\n",
       "      <td>NaN</td>\n",
       "      <td>v England</td>\n",
       "      <td>Colombo (RPS)</td>\n",
       "      <td>22 Sep 2002</td>\n",
       "      <td>ODI # 1884</td>\n",
       "    </tr>\n",
       "    <tr>\n",
       "      <th>43</th>\n",
       "      <td>114</td>\n",
       "      <td>-</td>\n",
       "      <td>82</td>\n",
       "      <td>17</td>\n",
       "      <td>2</td>\n",
       "      <td>139.02</td>\n",
       "      <td>2</td>\n",
       "      <td>not out</td>\n",
       "      <td>2</td>\n",
       "      <td>NaN</td>\n",
       "      <td>v West Indies</td>\n",
       "      <td>Rajkot</td>\n",
       "      <td>12 Nov 2002</td>\n",
       "      <td>ODI # 1895</td>\n",
       "    </tr>\n",
       "    <tr>\n",
       "      <th>49</th>\n",
       "      <td>108</td>\n",
       "      <td>160</td>\n",
       "      <td>119</td>\n",
       "      <td>9</td>\n",
       "      <td>2</td>\n",
       "      <td>90.75</td>\n",
       "      <td>2</td>\n",
       "      <td>run out</td>\n",
       "      <td>2</td>\n",
       "      <td>NaN</td>\n",
       "      <td>v New Zealand</td>\n",
       "      <td>Napier</td>\n",
       "      <td>29 Dec 2002</td>\n",
       "      <td>ODI # 1927</td>\n",
       "    </tr>\n",
       "    <tr>\n",
       "      <th>53</th>\n",
       "      <td>112</td>\n",
       "      <td>175</td>\n",
       "      <td>139</td>\n",
       "      <td>11</td>\n",
       "      <td>3</td>\n",
       "      <td>80.57</td>\n",
       "      <td>2</td>\n",
       "      <td>caught</td>\n",
       "      <td>2</td>\n",
       "      <td>NaN</td>\n",
       "      <td>v New Zealand</td>\n",
       "      <td>Auckland</td>\n",
       "      <td>11 Jan 2003</td>\n",
       "      <td>ODI # 1933</td>\n",
       "    </tr>\n",
       "    <tr>\n",
       "      <th>75</th>\n",
       "      <td>130</td>\n",
       "      <td>193</td>\n",
       "      <td>134</td>\n",
       "      <td>15</td>\n",
       "      <td>2</td>\n",
       "      <td>97.01</td>\n",
       "      <td>1</td>\n",
       "      <td>caught</td>\n",
       "      <td>1</td>\n",
       "      <td>NaN</td>\n",
       "      <td>v New Zealand</td>\n",
       "      <td>Hyderabad (Deccan)</td>\n",
       "      <td>15 Nov 2003</td>\n",
       "      <td>ODI # 2062</td>\n",
       "    </tr>\n",
       "    <tr>\n",
       "      <th>104</th>\n",
       "      <td>108</td>\n",
       "      <td>156</td>\n",
       "      <td>95</td>\n",
       "      <td>9</td>\n",
       "      <td>3</td>\n",
       "      <td>113.68</td>\n",
       "      <td>1</td>\n",
       "      <td>bowled</td>\n",
       "      <td>1</td>\n",
       "      <td>NaN</td>\n",
       "      <td>v Pakistan</td>\n",
       "      <td>Kochi</td>\n",
       "      <td>2 Apr 2005</td>\n",
       "      <td>ODI # 2235</td>\n",
       "    </tr>\n",
       "    <tr>\n",
       "      <th>163</th>\n",
       "      <td>114</td>\n",
       "      <td>127</td>\n",
       "      <td>87</td>\n",
       "      <td>17</td>\n",
       "      <td>3</td>\n",
       "      <td>131.03</td>\n",
       "      <td>3</td>\n",
       "      <td>caught</td>\n",
       "      <td>1</td>\n",
       "      <td>NaN</td>\n",
       "      <td>v Bermuda</td>\n",
       "      <td>Port of Spain</td>\n",
       "      <td>19 Mar 2007</td>\n",
       "      <td>ODI # 2542</td>\n",
       "    </tr>\n",
       "    <tr>\n",
       "      <th>182</th>\n",
       "      <td>119</td>\n",
       "      <td>150</td>\n",
       "      <td>95</td>\n",
       "      <td>12</td>\n",
       "      <td>5</td>\n",
       "      <td>125.26</td>\n",
       "      <td>2</td>\n",
       "      <td>caught</td>\n",
       "      <td>2</td>\n",
       "      <td>NaN</td>\n",
       "      <td>v Pakistan</td>\n",
       "      <td>Karachi</td>\n",
       "      <td>26 Jun 2008</td>\n",
       "      <td>ODI # 2717</td>\n",
       "    </tr>\n",
       "    <tr>\n",
       "      <th>192</th>\n",
       "      <td>116</td>\n",
       "      <td>165</td>\n",
       "      <td>90</td>\n",
       "      <td>17</td>\n",
       "      <td>0</td>\n",
       "      <td>128.88</td>\n",
       "      <td>1</td>\n",
       "      <td>run out</td>\n",
       "      <td>1</td>\n",
       "      <td>NaN</td>\n",
       "      <td>v Sri Lanka</td>\n",
       "      <td>Colombo (RPS)</td>\n",
       "      <td>3 Feb 2009</td>\n",
       "      <td>ODI # 2813</td>\n",
       "    </tr>\n",
       "    <tr>\n",
       "      <th>198</th>\n",
       "      <td>125</td>\n",
       "      <td>106</td>\n",
       "      <td>74</td>\n",
       "      <td>14</td>\n",
       "      <td>6</td>\n",
       "      <td>168.91</td>\n",
       "      <td>2</td>\n",
       "      <td>not out</td>\n",
       "      <td>2</td>\n",
       "      <td>NaN</td>\n",
       "      <td>v New Zealand</td>\n",
       "      <td>Hamilton</td>\n",
       "      <td>11 Mar 2009</td>\n",
       "      <td>ODI # 2824</td>\n",
       "    </tr>\n",
       "    <tr>\n",
       "      <th>206</th>\n",
       "      <td>146</td>\n",
       "      <td>166</td>\n",
       "      <td>102</td>\n",
       "      <td>17</td>\n",
       "      <td>6</td>\n",
       "      <td>143.13</td>\n",
       "      <td>1</td>\n",
       "      <td>caught</td>\n",
       "      <td>1</td>\n",
       "      <td>NaN</td>\n",
       "      <td>v Sri Lanka</td>\n",
       "      <td>Rajkot</td>\n",
       "      <td>15 Dec 2009</td>\n",
       "      <td>ODI # 2932</td>\n",
       "    </tr>\n",
       "    <tr>\n",
       "      <th>220</th>\n",
       "      <td>110</td>\n",
       "      <td>136</td>\n",
       "      <td>93</td>\n",
       "      <td>16</td>\n",
       "      <td>1</td>\n",
       "      <td>118.27</td>\n",
       "      <td>2</td>\n",
       "      <td>caught</td>\n",
       "      <td>1</td>\n",
       "      <td>NaN</td>\n",
       "      <td>v New Zealand</td>\n",
       "      <td>Dambulla</td>\n",
       "      <td>25 Aug 2010</td>\n",
       "      <td>ODI # 3039</td>\n",
       "    </tr>\n",
       "    <tr>\n",
       "      <th>222</th>\n",
       "      <td>175</td>\n",
       "      <td>198</td>\n",
       "      <td>140</td>\n",
       "      <td>14</td>\n",
       "      <td>5</td>\n",
       "      <td>125.00</td>\n",
       "      <td>1</td>\n",
       "      <td>bowled</td>\n",
       "      <td>1</td>\n",
       "      <td>NaN</td>\n",
       "      <td>v Bangladesh</td>\n",
       "      <td>Mirpur</td>\n",
       "      <td>19 Feb 2011</td>\n",
       "      <td>ODI # 3100</td>\n",
       "    </tr>\n",
       "    <tr>\n",
       "      <th>233</th>\n",
       "      <td>219</td>\n",
       "      <td>208</td>\n",
       "      <td>149</td>\n",
       "      <td>25</td>\n",
       "      <td>7</td>\n",
       "      <td>146.97</td>\n",
       "      <td>2</td>\n",
       "      <td>caught</td>\n",
       "      <td>1</td>\n",
       "      <td>NaN</td>\n",
       "      <td>v West Indies</td>\n",
       "      <td>Indore</td>\n",
       "      <td>8 Dec 2011</td>\n",
       "      <td>ODI # 3223</td>\n",
       "    </tr>\n",
       "  </tbody>\n",
       "</table>\n",
       "</div>"
      ],
      "text/plain": [
       "     Runs Mins   BF  4s  6s      SR  Pos Dismissal  Inns  Unnamed: 9  \\\n",
       "37    126  136  104  21   1  121.15    1    caught     2         NaN   \n",
       "43    114    -   82  17   2  139.02    2   not out     2         NaN   \n",
       "49    108  160  119   9   2   90.75    2   run out     2         NaN   \n",
       "53    112  175  139  11   3   80.57    2    caught     2         NaN   \n",
       "75    130  193  134  15   2   97.01    1    caught     1         NaN   \n",
       "104   108  156   95   9   3  113.68    1    bowled     1         NaN   \n",
       "163   114  127   87  17   3  131.03    3    caught     1         NaN   \n",
       "182   119  150   95  12   5  125.26    2    caught     2         NaN   \n",
       "192   116  165   90  17   0  128.88    1   run out     1         NaN   \n",
       "198   125  106   74  14   6  168.91    2   not out     2         NaN   \n",
       "206   146  166  102  17   6  143.13    1    caught     1         NaN   \n",
       "220   110  136   93  16   1  118.27    2    caught     1         NaN   \n",
       "222   175  198  140  14   5  125.00    1    bowled     1         NaN   \n",
       "233   219  208  149  25   7  146.97    2    caught     1         NaN   \n",
       "\n",
       "        Opposition              Ground   Start Date Unnamed: 13  \n",
       "37       v England       Colombo (RPS)  22 Sep 2002  ODI # 1884  \n",
       "43   v West Indies              Rajkot  12 Nov 2002  ODI # 1895  \n",
       "49   v New Zealand              Napier  29 Dec 2002  ODI # 1927  \n",
       "53   v New Zealand            Auckland  11 Jan 2003  ODI # 1933  \n",
       "75   v New Zealand  Hyderabad (Deccan)  15 Nov 2003  ODI # 2062  \n",
       "104     v Pakistan               Kochi   2 Apr 2005  ODI # 2235  \n",
       "163      v Bermuda       Port of Spain  19 Mar 2007  ODI # 2542  \n",
       "182     v Pakistan             Karachi  26 Jun 2008  ODI # 2717  \n",
       "192    v Sri Lanka       Colombo (RPS)   3 Feb 2009  ODI # 2813  \n",
       "198  v New Zealand            Hamilton  11 Mar 2009  ODI # 2824  \n",
       "206    v Sri Lanka              Rajkot  15 Dec 2009  ODI # 2932  \n",
       "220  v New Zealand            Dambulla  25 Aug 2010  ODI # 3039  \n",
       "222   v Bangladesh              Mirpur  19 Feb 2011  ODI # 3100  \n",
       "233  v West Indies              Indore   8 Dec 2011  ODI # 3223  "
      ]
     },
     "execution_count": 44,
     "metadata": {},
     "output_type": "execute_result"
    }
   ],
   "source": [
    "sehwag_outlier=sehwag[sehwag['Runs']>upper_wisker]\n",
    "sehwag_outlier"
   ]
  },
  {
   "cell_type": "code",
   "execution_count": 45,
   "id": "e8304435",
   "metadata": {},
   "outputs": [
    {
     "data": {
      "text/plain": [
       "14"
      ]
     },
     "execution_count": 45,
     "metadata": {},
     "output_type": "execute_result"
    }
   ],
   "source": [
    "sehwag_outlier.shape[0]"
   ]
  },
  {
   "cell_type": "code",
   "execution_count": 46,
   "id": "c770db31",
   "metadata": {},
   "outputs": [
    {
     "data": {
      "text/plain": [
       "5.714285714285714"
      ]
     },
     "execution_count": 46,
     "metadata": {},
     "output_type": "execute_result"
    }
   ],
   "source": [
    "sehwag_outlier_percentage=(sehwag_outlier.shape[0]/sehwag.shape[0])*100\n",
    "sehwag_outlier_percentage"
   ]
  },
  {
   "cell_type": "code",
   "execution_count": 47,
   "id": "8a58eb0a",
   "metadata": {},
   "outputs": [
    {
     "data": {
      "text/plain": [
       "count    318.000000\n",
       "mean      34.242138\n",
       "std       29.681822\n",
       "min        0.000000\n",
       "25%       10.000000\n",
       "50%       26.000000\n",
       "75%       54.000000\n",
       "max      153.000000\n",
       "Name: Runs, dtype: float64"
      ]
     },
     "execution_count": 47,
     "metadata": {},
     "output_type": "execute_result"
    }
   ],
   "source": [
    "dravid['Runs'].describe()"
   ]
  },
  {
   "cell_type": "code",
   "execution_count": 48,
   "id": "9e68748b",
   "metadata": {},
   "outputs": [
    {
     "name": "stdout",
     "output_type": "stream",
     "text": [
      "10.0 26.0 54.0\n"
     ]
    }
   ],
   "source": [
    "d25=dravid['Runs'].quantile(.25)\n",
    "d50=dravid['Runs'].quantile(.50)\n",
    "d75=dravid['Runs'].quantile(.75)\n",
    "print(d25,d50,d75)"
   ]
  },
  {
   "cell_type": "code",
   "execution_count": 49,
   "id": "ce2a1600",
   "metadata": {},
   "outputs": [
    {
     "data": {
      "text/plain": [
       "44.0"
      ]
     },
     "execution_count": 49,
     "metadata": {},
     "output_type": "execute_result"
    }
   ],
   "source": [
    "dravid_iqr=d75-d25\n",
    "dravid_iqr"
   ]
  },
  {
   "cell_type": "code",
   "execution_count": 50,
   "id": "713aeaca",
   "metadata": {},
   "outputs": [
    {
     "data": {
      "text/plain": [
       "0"
      ]
     },
     "execution_count": 50,
     "metadata": {},
     "output_type": "execute_result"
    }
   ],
   "source": [
    "dravid_lower_wisker=max(d25-1.5*(dravid_iqr),dravid['Runs'].min())\n",
    "dravid_lower_wisker"
   ]
  },
  {
   "cell_type": "code",
   "execution_count": 52,
   "id": "602dd450",
   "metadata": {},
   "outputs": [
    {
     "data": {
      "text/plain": [
       "(245, 14)"
      ]
     },
     "execution_count": 52,
     "metadata": {},
     "output_type": "execute_result"
    }
   ],
   "source": [
    "sehwag.shape"
   ]
  },
  {
   "cell_type": "code",
   "execution_count": 53,
   "id": "93f35b8e",
   "metadata": {},
   "outputs": [
    {
     "data": {
      "text/plain": [
       "(318, 14)"
      ]
     },
     "execution_count": 53,
     "metadata": {},
     "output_type": "execute_result"
    }
   ],
   "source": [
    "dravid.shape"
   ]
  },
  {
   "cell_type": "code",
   "execution_count": 55,
   "id": "1335f8e4",
   "metadata": {},
   "outputs": [
    {
     "data": {
      "text/plain": [
       "8.0"
      ]
     },
     "execution_count": 55,
     "metadata": {},
     "output_type": "execute_result"
    }
   ],
   "source": [
    "sp25=np.percentile(sehwag['Runs'],25)\n",
    "sp25"
   ]
  },
  {
   "cell_type": "code",
   "execution_count": 56,
   "id": "bacde124",
   "metadata": {},
   "outputs": [
    {
     "data": {
      "text/plain": [
       "23.0"
      ]
     },
     "execution_count": 56,
     "metadata": {},
     "output_type": "execute_result"
    }
   ],
   "source": [
    "sp50=np.percentile(sehwag['Runs'],50)\n",
    "sp50"
   ]
  },
  {
   "cell_type": "code",
   "execution_count": 57,
   "id": "a94f8301",
   "metadata": {},
   "outputs": [
    {
     "data": {
      "text/plain": [
       "46.0"
      ]
     },
     "execution_count": 57,
     "metadata": {},
     "output_type": "execute_result"
    }
   ],
   "source": [
    "sp75=np.percentile(sehwag['Runs'],75)\n",
    "sp75"
   ]
  },
  {
   "cell_type": "code",
   "execution_count": 58,
   "id": "583e4c3a",
   "metadata": {},
   "outputs": [
    {
     "data": {
      "text/plain": [
       "38.0"
      ]
     },
     "execution_count": 58,
     "metadata": {},
     "output_type": "execute_result"
    }
   ],
   "source": [
    "#iqr=Q3-Q1\n",
    "s_iqr=sp75-sp25\n",
    "s_iqr"
   ]
  },
  {
   "cell_type": "code",
   "execution_count": 59,
   "id": "3b91b772",
   "metadata": {},
   "outputs": [
    {
     "data": {
      "text/plain": [
       "219"
      ]
     },
     "execution_count": 59,
     "metadata": {},
     "output_type": "execute_result"
    }
   ],
   "source": [
    "s_range=sehwag['Runs'].max()-sehwag['Runs'].min()\n",
    "s_range"
   ]
  },
  {
   "cell_type": "code",
   "execution_count": 60,
   "id": "d4e02a1e",
   "metadata": {},
   "outputs": [
    {
     "data": {
      "text/plain": [
       "8.0"
      ]
     },
     "execution_count": 60,
     "metadata": {},
     "output_type": "execute_result"
    }
   ],
   "source": [
    "sq25=sehwag['Runs'].quantile(.25)\n",
    "sq25"
   ]
  },
  {
   "cell_type": "code",
   "execution_count": 61,
   "id": "2f876ede",
   "metadata": {},
   "outputs": [
    {
     "data": {
      "text/plain": [
       "23.0"
      ]
     },
     "execution_count": 61,
     "metadata": {},
     "output_type": "execute_result"
    }
   ],
   "source": [
    "sq50=sehwag['Runs'].quantile(.50)\n",
    "sq50"
   ]
  },
  {
   "cell_type": "code",
   "execution_count": 62,
   "id": "e39074c9",
   "metadata": {},
   "outputs": [
    {
     "data": {
      "text/plain": [
       "46.0"
      ]
     },
     "execution_count": 62,
     "metadata": {},
     "output_type": "execute_result"
    }
   ],
   "source": [
    "sq75=sehwag['Runs'].quantile(.75)\n",
    "sq75"
   ]
  },
  {
   "cell_type": "code",
   "execution_count": 66,
   "id": "60add85f",
   "metadata": {},
   "outputs": [
    {
     "data": {
      "text/plain": [
       "0"
      ]
     },
     "execution_count": 66,
     "metadata": {},
     "output_type": "execute_result"
    }
   ],
   "source": [
    "s_lower=max(sq25-1.5*(s_iqr),sehwag['Runs'].min())\n",
    "s_lower"
   ]
  },
  {
   "cell_type": "code",
   "execution_count": 69,
   "id": "896d0130",
   "metadata": {},
   "outputs": [
    {
     "data": {
      "text/plain": [
       "103.0"
      ]
     },
     "execution_count": 69,
     "metadata": {},
     "output_type": "execute_result"
    }
   ],
   "source": [
    "s_upper=min(sq75+1.5*(s_iqr),sehwag['Runs'].max())\n",
    "s_upper"
   ]
  },
  {
   "cell_type": "code",
   "execution_count": 71,
   "id": "07861f7f",
   "metadata": {},
   "outputs": [
    {
     "data": {
      "image/png": "[encoded data removed]",
      "text/plain": [
       "<Figure size 640x480 with 1 Axes>"
      ]
     },
     "metadata": {},
     "output_type": "display_data"
    }
   ],
   "source": [
    "sns.boxplot(x=sehwag['Runs'])\n",
    "plt.show()"
   ]
  },
  {
   "cell_type": "code",
   "execution_count": 75,
   "id": "8053b3bf",
   "metadata": {},
   "outputs": [
    {
     "data": {
      "text/plain": [
       "14"
      ]
     },
     "execution_count": 75,
     "metadata": {},
     "output_type": "execute_result"
    }
   ],
   "source": [
    "sehwag_outlier=sehwag[sehwag['Runs']>s_upper]\n",
    "sehwag_outlier.shape[0]"
   ]
  },
  {
   "cell_type": "code",
   "execution_count": 76,
   "id": "2c7f0905",
   "metadata": {},
   "outputs": [
    {
     "data": {
      "text/plain": [
       "5.714285714285714"
      ]
     },
     "execution_count": 76,
     "metadata": {},
     "output_type": "execute_result"
    }
   ],
   "source": [
    "percentage_outlier_sehwag=(sehwag_outlier.shape[0]/sehwag.shape[0])*100\n",
    "percentage_outlier_sehwag"
   ]
  },
  {
   "cell_type": "code",
   "execution_count": 77,
   "id": "dff98b24",
   "metadata": {},
   "outputs": [
    {
     "data": {
      "text/plain": [
       "count    318.000000\n",
       "mean      34.242138\n",
       "std       29.681822\n",
       "min        0.000000\n",
       "25%       10.000000\n",
       "50%       26.000000\n",
       "75%       54.000000\n",
       "max      153.000000\n",
       "Name: Runs, dtype: float64"
      ]
     },
     "execution_count": 77,
     "metadata": {},
     "output_type": "execute_result"
    }
   ],
   "source": [
    "dravid['Runs'].describe()"
   ]
  },
  {
   "cell_type": "code",
   "execution_count": 78,
   "id": "35ca1ca9",
   "metadata": {},
   "outputs": [],
   "source": [
    "dq25=dravid['Runs'].quantile(.25)\n",
    "dq50=dravid['Runs'].quantile(.50)\n",
    "dq75=dravid['Runs'].quantile(.75)"
   ]
  },
  {
   "cell_type": "code",
   "execution_count": 79,
   "id": "19ec10c9",
   "metadata": {},
   "outputs": [
    {
     "data": {
      "text/plain": [
       "(10.0, 26.0, 54.0)"
      ]
     },
     "execution_count": 79,
     "metadata": {},
     "output_type": "execute_result"
    }
   ],
   "source": [
    "dq25,dq50,dq75"
   ]
  },
  {
   "cell_type": "code",
   "execution_count": 80,
   "id": "1e4898b4",
   "metadata": {},
   "outputs": [
    {
     "data": {
      "text/plain": [
       "44.0"
      ]
     },
     "execution_count": 80,
     "metadata": {},
     "output_type": "execute_result"
    }
   ],
   "source": [
    "d_iqr=dq75-dq25\n",
    "d_iqr"
   ]
  },
  {
   "cell_type": "code",
   "execution_count": 84,
   "id": "094f31ee",
   "metadata": {},
   "outputs": [
    {
     "data": {
      "text/plain": [
       "0"
      ]
     },
     "execution_count": 84,
     "metadata": {},
     "output_type": "execute_result"
    }
   ],
   "source": [
    "d_lower=max(dq25-(1.5*d_iqr),dravid['Runs'].min())\n",
    "d_lower"
   ]
  },
  {
   "cell_type": "code",
   "execution_count": 85,
   "id": "1b4df769",
   "metadata": {},
   "outputs": [
    {
     "data": {
      "text/plain": [
       "120.0"
      ]
     },
     "execution_count": 85,
     "metadata": {},
     "output_type": "execute_result"
    }
   ],
   "source": [
    "d_upper=min(dq75+(1.5*d_iqr),dravid['Runs'].max())\n",
    "d_upper"
   ]
  },
  {
   "cell_type": "code",
   "execution_count": 87,
   "id": "b473e332",
   "metadata": {},
   "outputs": [
    {
     "data": {
      "text/plain": [
       "3"
      ]
     },
     "execution_count": 87,
     "metadata": {},
     "output_type": "execute_result"
    }
   ],
   "source": [
    "dravid_outlier=dravid[dravid['Runs']>d_upper]\n",
    "dravid_outlier.shape[0]"
   ]
  },
  {
   "cell_type": "code",
   "execution_count": 88,
   "id": "35145cb0",
   "metadata": {},
   "outputs": [
    {
     "data": {
      "text/plain": [
       "0.9433962264150944"
      ]
     },
     "execution_count": 88,
     "metadata": {},
     "output_type": "execute_result"
    }
   ],
   "source": [
    "dravid_outlier_percentage=(dravid_outlier.shape[0]/dravid.shape[0])*100\n",
    "dravid_outlier_percentage"
   ]
  },
  {
   "cell_type": "code",
   "execution_count": null,
   "id": "9fa4d3f9",
   "metadata": {},
   "outputs": [],
   "source": []
  }
 ],
 "metadata": {
  "kernelspec": {
   "display_name": "Python 3 (ipykernel)",
   "language": "python",
   "name": "python3"
  },
  "language_info": {
   "codemirror_mode": {
    "name": "ipython",
    "version": 3
   },
   "file_extension": ".py",
   "mimetype": "text/x-python",
   "name": "python",
   "nbconvert_exporter": "python",
   "pygments_lexer": "ipython3",
   "version": "3.9.13"
  }
 },
 "nbformat": 4,
 "nbformat_minor": 5
}
