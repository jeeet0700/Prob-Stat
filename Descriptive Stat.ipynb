{
 "cells": [
  {
   "cell_type": "code",
   "execution_count": 1,
   "id": "a802b2a0",
   "metadata": {},
   "outputs": [],
   "source": [
    "import numpy as np\n",
    "import pandas as pd\n",
    "import matplotlib.pyplot as plt\n",
    "import seaborn as sns"
   ]
  },
  {
   "cell_type": "code",
   "execution_count": 2,
   "id": "bb511eae",
   "metadata": {},
   "outputs": [
    {
     "name": "stdout",
     "output_type": "stream",
     "text": [
      "/Users/jitendranathmahato/Downloads/Scaler/Prob and Stat\n"
     ]
    }
   ],
   "source": [
    "cd Prob and Stat/"
   ]
  },
  {
   "cell_type": "code",
   "execution_count": 3,
   "id": "e5dd2975",
   "metadata": {},
   "outputs": [
    {
     "name": "stdout",
     "output_type": "stream",
     "text": [
      "\u001b[34m01_Probability_Definitions\u001b[m\u001b[m/   \u001b[34m05_Descriptive_Statistics\u001b[m\u001b[m/\r\n",
      "\u001b[34m02_Conditional_Probability_1\u001b[m\u001b[m/ \u001b[34m06_Gaussian_Distribution\u001b[m\u001b[m/\r\n",
      "\u001b[34m03_Bayes_Theorem_1\u001b[m\u001b[m/           \u001b[34m07_Gaussian_Distribution_2\u001b[m\u001b[m/\r\n"
     ]
    }
   ],
   "source": [
    "ls"
   ]
  },
  {
   "cell_type": "code",
   "execution_count": 4,
   "id": "c7d603ea",
   "metadata": {},
   "outputs": [
    {
     "name": "stdout",
     "output_type": "stream",
     "text": [
      "/Users/jitendranathmahato/Downloads/Scaler/Prob and Stat/05_Descriptive_Statistics\n"
     ]
    }
   ],
   "source": [
    "cd 05_Descriptive_Statistics/"
   ]
  },
  {
   "cell_type": "code",
   "execution_count": 5,
   "id": "f4065f1f",
   "metadata": {},
   "outputs": [
    {
     "name": "stdout",
     "output_type": "stream",
     "text": [
      "05_Descriptive_Statistics_Notebook.ipynb\r\n",
      "05_Descriptive_Statistics_Notebook.pdf\r\n",
      "05_Descriptive_Statistics_Scribble_Notes.pdf\r\n",
      "05_Descriptive_Statistics_Typed_Notes.pdf\r\n",
      "dravid.csv\r\n",
      "sehwag.csv\r\n",
      "weight-height.csv\r\n"
     ]
    }
   ],
   "source": [
    "ls"
   ]
  },
  {
   "cell_type": "code",
   "execution_count": 6,
   "id": "8d4cb4f7",
   "metadata": {},
   "outputs": [],
   "source": [
    "sehwag=pd.read_csv(\"sehwag.csv\")\n",
    "dravid=pd.read_csv(\"dravid.csv\")"
   ]
  },
  {
   "cell_type": "code",
   "execution_count": 7,
   "id": "9fa4d3f9",
   "metadata": {},
   "outputs": [
    {
     "data": {
      "text/plain": [
       "(245, 14)"
      ]
     },
     "execution_count": 7,
     "metadata": {},
     "output_type": "execute_result"
    }
   ],
   "source": [
    "sehwag.shape"
   ]
  },
  {
   "cell_type": "code",
   "execution_count": 8,
   "id": "924703d5",
   "metadata": {},
   "outputs": [
    {
     "data": {
      "text/plain": [
       "(318, 14)"
      ]
     },
     "execution_count": 8,
     "metadata": {},
     "output_type": "execute_result"
    }
   ],
   "source": [
    "dravid.shape"
   ]
  },
  {
   "cell_type": "code",
   "execution_count": 9,
   "id": "f2d53fb7",
   "metadata": {},
   "outputs": [
    {
     "data": {
      "text/html": [
       "<div>\n",
       "<style scoped>\n",
       "    .dataframe tbody tr th:only-of-type {\n",
       "        vertical-align: middle;\n",
       "    }\n",
       "\n",
       "    .dataframe tbody tr th {\n",
       "        vertical-align: top;\n",
       "    }\n",
       "\n",
       "    .dataframe thead th {\n",
       "        text-align: right;\n",
       "    }\n",
       "</style>\n",
       "<table border=\"1\" class=\"dataframe\">\n",
       "  <thead>\n",
       "    <tr style=\"text-align: right;\">\n",
       "      <th></th>\n",
       "      <th>Runs</th>\n",
       "      <th>Mins</th>\n",
       "      <th>BF</th>\n",
       "      <th>4s</th>\n",
       "      <th>6s</th>\n",
       "      <th>SR</th>\n",
       "      <th>Pos</th>\n",
       "      <th>Dismissal</th>\n",
       "      <th>Inns</th>\n",
       "      <th>Unnamed: 9</th>\n",
       "      <th>Opposition</th>\n",
       "      <th>Ground</th>\n",
       "      <th>Start Date</th>\n",
       "      <th>Unnamed: 13</th>\n",
       "    </tr>\n",
       "  </thead>\n",
       "  <tbody>\n",
       "    <tr>\n",
       "      <th>0</th>\n",
       "      <td>1</td>\n",
       "      <td>5</td>\n",
       "      <td>2</td>\n",
       "      <td>0</td>\n",
       "      <td>0</td>\n",
       "      <td>50.00</td>\n",
       "      <td>7</td>\n",
       "      <td>lbw</td>\n",
       "      <td>1</td>\n",
       "      <td>NaN</td>\n",
       "      <td>v Pakistan</td>\n",
       "      <td>Mohali</td>\n",
       "      <td>1 Apr 1999</td>\n",
       "      <td>ODI # 1427</td>\n",
       "    </tr>\n",
       "    <tr>\n",
       "      <th>1</th>\n",
       "      <td>19</td>\n",
       "      <td>18</td>\n",
       "      <td>24</td>\n",
       "      <td>0</td>\n",
       "      <td>1</td>\n",
       "      <td>79.16</td>\n",
       "      <td>6</td>\n",
       "      <td>caught</td>\n",
       "      <td>1</td>\n",
       "      <td>NaN</td>\n",
       "      <td>v Zimbabwe</td>\n",
       "      <td>Rajkot</td>\n",
       "      <td>14 Dec 2000</td>\n",
       "      <td>ODI # 1660</td>\n",
       "    </tr>\n",
       "    <tr>\n",
       "      <th>2</th>\n",
       "      <td>58</td>\n",
       "      <td>62</td>\n",
       "      <td>54</td>\n",
       "      <td>8</td>\n",
       "      <td>0</td>\n",
       "      <td>107.40</td>\n",
       "      <td>6</td>\n",
       "      <td>bowled</td>\n",
       "      <td>1</td>\n",
       "      <td>NaN</td>\n",
       "      <td>v Australia</td>\n",
       "      <td>Bengaluru</td>\n",
       "      <td>25 Mar 2001</td>\n",
       "      <td>ODI # 1696</td>\n",
       "    </tr>\n",
       "    <tr>\n",
       "      <th>3</th>\n",
       "      <td>2</td>\n",
       "      <td>7</td>\n",
       "      <td>7</td>\n",
       "      <td>0</td>\n",
       "      <td>0</td>\n",
       "      <td>28.57</td>\n",
       "      <td>6</td>\n",
       "      <td>caught</td>\n",
       "      <td>2</td>\n",
       "      <td>NaN</td>\n",
       "      <td>v Zimbabwe</td>\n",
       "      <td>Bulawayo</td>\n",
       "      <td>27 Jun 2001</td>\n",
       "      <td>ODI # 1730</td>\n",
       "    </tr>\n",
       "    <tr>\n",
       "      <th>4</th>\n",
       "      <td>11</td>\n",
       "      <td>19</td>\n",
       "      <td>16</td>\n",
       "      <td>1</td>\n",
       "      <td>0</td>\n",
       "      <td>68.75</td>\n",
       "      <td>6</td>\n",
       "      <td>not out</td>\n",
       "      <td>2</td>\n",
       "      <td>NaN</td>\n",
       "      <td>v West Indies</td>\n",
       "      <td>Bulawayo</td>\n",
       "      <td>30 Jun 2001</td>\n",
       "      <td>ODI # 1731</td>\n",
       "    </tr>\n",
       "  </tbody>\n",
       "</table>\n",
       "</div>"
      ],
      "text/plain": [
       "   Runs Mins  BF  4s  6s      SR  Pos Dismissal  Inns  Unnamed: 9  \\\n",
       "0     1    5   2   0   0   50.00    7       lbw     1         NaN   \n",
       "1    19   18  24   0   1   79.16    6    caught     1         NaN   \n",
       "2    58   62  54   8   0  107.40    6    bowled     1         NaN   \n",
       "3     2    7   7   0   0   28.57    6    caught     2         NaN   \n",
       "4    11   19  16   1   0   68.75    6   not out     2         NaN   \n",
       "\n",
       "      Opposition     Ground   Start Date Unnamed: 13  \n",
       "0     v Pakistan     Mohali   1 Apr 1999  ODI # 1427  \n",
       "1     v Zimbabwe     Rajkot  14 Dec 2000  ODI # 1660  \n",
       "2    v Australia  Bengaluru  25 Mar 2001  ODI # 1696  \n",
       "3     v Zimbabwe   Bulawayo  27 Jun 2001  ODI # 1730  \n",
       "4  v West Indies   Bulawayo  30 Jun 2001  ODI # 1731  "
      ]
     },
     "execution_count": 9,
     "metadata": {},
     "output_type": "execute_result"
    }
   ],
   "source": [
    "sehwag.head()"
   ]
  },
  {
   "cell_type": "code",
   "execution_count": 10,
   "id": "5457eaa4",
   "metadata": {},
   "outputs": [
    {
     "data": {
      "text/html": [
       "<div>\n",
       "<style scoped>\n",
       "    .dataframe tbody tr th:only-of-type {\n",
       "        vertical-align: middle;\n",
       "    }\n",
       "\n",
       "    .dataframe tbody tr th {\n",
       "        vertical-align: top;\n",
       "    }\n",
       "\n",
       "    .dataframe thead th {\n",
       "        text-align: right;\n",
       "    }\n",
       "</style>\n",
       "<table border=\"1\" class=\"dataframe\">\n",
       "  <thead>\n",
       "    <tr style=\"text-align: right;\">\n",
       "      <th></th>\n",
       "      <th>Runs</th>\n",
       "      <th>Mins</th>\n",
       "      <th>BF</th>\n",
       "      <th>4s</th>\n",
       "      <th>6s</th>\n",
       "      <th>SR</th>\n",
       "      <th>Pos</th>\n",
       "      <th>Dismissal</th>\n",
       "      <th>Inns</th>\n",
       "      <th>Unnamed: 9</th>\n",
       "      <th>Opposition</th>\n",
       "      <th>Ground</th>\n",
       "      <th>Start Date</th>\n",
       "      <th>Unnamed: 13</th>\n",
       "    </tr>\n",
       "  </thead>\n",
       "  <tbody>\n",
       "    <tr>\n",
       "      <th>0</th>\n",
       "      <td>3</td>\n",
       "      <td>-</td>\n",
       "      <td>4</td>\n",
       "      <td>0</td>\n",
       "      <td>0</td>\n",
       "      <td>75.00</td>\n",
       "      <td>4</td>\n",
       "      <td>caught</td>\n",
       "      <td>1</td>\n",
       "      <td>NaN</td>\n",
       "      <td>v Sri Lanka</td>\n",
       "      <td>Singapore</td>\n",
       "      <td>3 Apr 1996</td>\n",
       "      <td>ODI # 1089</td>\n",
       "    </tr>\n",
       "    <tr>\n",
       "      <th>1</th>\n",
       "      <td>4</td>\n",
       "      <td>-</td>\n",
       "      <td>7</td>\n",
       "      <td>0</td>\n",
       "      <td>0</td>\n",
       "      <td>57.14</td>\n",
       "      <td>4</td>\n",
       "      <td>run out</td>\n",
       "      <td>1</td>\n",
       "      <td>NaN</td>\n",
       "      <td>v Pakistan</td>\n",
       "      <td>Singapore</td>\n",
       "      <td>5 Apr 1996</td>\n",
       "      <td>ODI # 1091</td>\n",
       "    </tr>\n",
       "    <tr>\n",
       "      <th>2</th>\n",
       "      <td>3</td>\n",
       "      <td>-</td>\n",
       "      <td>5</td>\n",
       "      <td>0</td>\n",
       "      <td>0</td>\n",
       "      <td>60.00</td>\n",
       "      <td>5</td>\n",
       "      <td>caught</td>\n",
       "      <td>2</td>\n",
       "      <td>NaN</td>\n",
       "      <td>v Pakistan</td>\n",
       "      <td>Sharjah</td>\n",
       "      <td>12 Apr 1996</td>\n",
       "      <td>ODI # 1094</td>\n",
       "    </tr>\n",
       "    <tr>\n",
       "      <th>3</th>\n",
       "      <td>11</td>\n",
       "      <td>28</td>\n",
       "      <td>21</td>\n",
       "      <td>0</td>\n",
       "      <td>0</td>\n",
       "      <td>52.38</td>\n",
       "      <td>8</td>\n",
       "      <td>caught</td>\n",
       "      <td>2</td>\n",
       "      <td>NaN</td>\n",
       "      <td>v South Africa</td>\n",
       "      <td>Sharjah</td>\n",
       "      <td>14 Apr 1996</td>\n",
       "      <td>ODI # 1097</td>\n",
       "    </tr>\n",
       "    <tr>\n",
       "      <th>4</th>\n",
       "      <td>22</td>\n",
       "      <td>21</td>\n",
       "      <td>15</td>\n",
       "      <td>3</td>\n",
       "      <td>0</td>\n",
       "      <td>146.66</td>\n",
       "      <td>6</td>\n",
       "      <td>not out</td>\n",
       "      <td>1</td>\n",
       "      <td>NaN</td>\n",
       "      <td>v England</td>\n",
       "      <td>Manchester</td>\n",
       "      <td>26 May 1996</td>\n",
       "      <td>ODI # 1104</td>\n",
       "    </tr>\n",
       "  </tbody>\n",
       "</table>\n",
       "</div>"
      ],
      "text/plain": [
       "   Runs Mins  BF  4s  6s      SR  Pos Dismissal  Inns  Unnamed: 9  \\\n",
       "0     3    -   4   0   0   75.00    4    caught     1         NaN   \n",
       "1     4    -   7   0   0   57.14    4   run out     1         NaN   \n",
       "2     3    -   5   0   0   60.00    5    caught     2         NaN   \n",
       "3    11   28  21   0   0   52.38    8    caught     2         NaN   \n",
       "4    22   21  15   3   0  146.66    6   not out     1         NaN   \n",
       "\n",
       "       Opposition      Ground   Start Date Unnamed: 13  \n",
       "0     v Sri Lanka   Singapore   3 Apr 1996  ODI # 1089  \n",
       "1      v Pakistan   Singapore   5 Apr 1996  ODI # 1091  \n",
       "2      v Pakistan     Sharjah  12 Apr 1996  ODI # 1094  \n",
       "3  v South Africa     Sharjah  14 Apr 1996  ODI # 1097  \n",
       "4       v England  Manchester  26 May 1996  ODI # 1104  "
      ]
     },
     "execution_count": 10,
     "metadata": {},
     "output_type": "execute_result"
    }
   ],
   "source": [
    "dravid.head()"
   ]
  },
  {
   "cell_type": "code",
   "execution_count": 11,
   "id": "bd3fca38",
   "metadata": {},
   "outputs": [
    {
     "data": {
      "text/plain": [
       "8.0"
      ]
     },
     "execution_count": 11,
     "metadata": {},
     "output_type": "execute_result"
    }
   ],
   "source": [
    "s25=np.percentile(sehwag['Runs'],25)\n",
    "s25"
   ]
  },
  {
   "cell_type": "code",
   "execution_count": 12,
   "id": "0e3df9aa",
   "metadata": {},
   "outputs": [
    {
     "data": {
      "text/plain": [
       "23.0"
      ]
     },
     "execution_count": 12,
     "metadata": {},
     "output_type": "execute_result"
    }
   ],
   "source": [
    "s50=np.percentile(sehwag['Runs'],50)\n",
    "s50"
   ]
  },
  {
   "cell_type": "code",
   "execution_count": 13,
   "id": "2be257db",
   "metadata": {},
   "outputs": [
    {
     "data": {
      "text/plain": [
       "46.0"
      ]
     },
     "execution_count": 13,
     "metadata": {},
     "output_type": "execute_result"
    }
   ],
   "source": [
    "s75=np.percentile(sehwag['Runs'],75)\n",
    "s75"
   ]
  },
  {
   "cell_type": "markdown",
   "id": "5e0ee438",
   "metadata": {},
   "source": [
    "# IQR=Q3-Q1"
   ]
  },
  {
   "cell_type": "code",
   "execution_count": 14,
   "id": "cfc69229",
   "metadata": {},
   "outputs": [
    {
     "data": {
      "text/plain": [
       "38.0"
      ]
     },
     "execution_count": 14,
     "metadata": {},
     "output_type": "execute_result"
    }
   ],
   "source": [
    "IQR=s75-s25\n",
    "IQR"
   ]
  },
  {
   "cell_type": "code",
   "execution_count": 15,
   "id": "3c47c191",
   "metadata": {},
   "outputs": [
    {
     "data": {
      "text/plain": [
       "219"
      ]
     },
     "execution_count": 15,
     "metadata": {},
     "output_type": "execute_result"
    }
   ],
   "source": [
    "srange=sehwag['Runs'].max()-sehwag['Runs'].min()\n",
    "srange"
   ]
  },
  {
   "cell_type": "code",
   "execution_count": null,
   "id": "b0abf1d6",
   "metadata": {},
   "outputs": [],
   "source": []
  },
  {
   "cell_type": "code",
   "execution_count": null,
   "id": "ab15d2a7",
   "metadata": {},
   "outputs": [],
   "source": []
  },
  {
   "cell_type": "code",
   "execution_count": 16,
   "id": "9b1df138",
   "metadata": {},
   "outputs": [
    {
     "data": {
      "text/plain": [
       "8.0"
      ]
     },
     "execution_count": 16,
     "metadata": {},
     "output_type": "execute_result"
    }
   ],
   "source": [
    "s25q=sehwag['Runs'].quantile(.25)\n",
    "s25q"
   ]
  },
  {
   "cell_type": "code",
   "execution_count": 17,
   "id": "531d010e",
   "metadata": {},
   "outputs": [
    {
     "data": {
      "text/plain": [
       "23.0"
      ]
     },
     "execution_count": 17,
     "metadata": {},
     "output_type": "execute_result"
    }
   ],
   "source": [
    "s50q=sehwag['Runs'].quantile(.50)\n",
    "s50q"
   ]
  },
  {
   "cell_type": "code",
   "execution_count": 18,
   "id": "9eec31bb",
   "metadata": {},
   "outputs": [
    {
     "data": {
      "text/plain": [
       "46.0"
      ]
     },
     "execution_count": 18,
     "metadata": {},
     "output_type": "execute_result"
    }
   ],
   "source": [
    "s75q=sehwag['Runs'].quantile(.75)\n",
    "s75q"
   ]
  },
  {
   "cell_type": "code",
   "execution_count": 19,
   "id": "5b273e1e",
   "metadata": {},
   "outputs": [
    {
     "data": {
      "text/plain": [
       "7"
      ]
     },
     "execution_count": 19,
     "metadata": {},
     "output_type": "execute_result"
    }
   ],
   "source": [
    "max(2,7)"
   ]
  },
  {
   "cell_type": "code",
   "execution_count": 20,
   "id": "a49acedb",
   "metadata": {},
   "outputs": [
    {
     "data": {
      "text/plain": [
       "2"
      ]
     },
     "execution_count": 20,
     "metadata": {},
     "output_type": "execute_result"
    }
   ],
   "source": [
    "min(2,7)"
   ]
  },
  {
   "cell_type": "markdown",
   "id": "fc1e4cce",
   "metadata": {},
   "source": [
    "# L IQR = Q1-1.5(IQR)"
   ]
  },
  {
   "cell_type": "code",
   "execution_count": 21,
   "id": "20f9d0d8",
   "metadata": {},
   "outputs": [
    {
     "data": {
      "text/plain": [
       "0"
      ]
     },
     "execution_count": 21,
     "metadata": {},
     "output_type": "execute_result"
    }
   ],
   "source": [
    "L=max(s25-(1.5*IQR),sehwag['Runs'].min())\n",
    "L"
   ]
  },
  {
   "cell_type": "markdown",
   "id": "afea8405",
   "metadata": {},
   "source": [
    "# U IQR = Q3+1.5(IQR)"
   ]
  },
  {
   "cell_type": "code",
   "execution_count": 22,
   "id": "2eef40cb",
   "metadata": {},
   "outputs": [
    {
     "data": {
      "text/plain": [
       "103.0"
      ]
     },
     "execution_count": 22,
     "metadata": {},
     "output_type": "execute_result"
    }
   ],
   "source": [
    "U=min(s75+(1.5*IQR),sehwag['Runs'].max())\n",
    "U"
   ]
  },
  {
   "cell_type": "code",
   "execution_count": 23,
   "id": "afc44e2e",
   "metadata": {},
   "outputs": [
    {
     "data": {
      "text/plain": [
       "<Axes: >"
      ]
     },
     "execution_count": 23,
     "metadata": {},
     "output_type": "execute_result"
    },
    {
     "data": {
      "image/png": "[encoded data removed]",
      "text/plain": [
       "<Figure size 640x480 with 1 Axes>"
      ]
     },
     "metadata": {},
     "output_type": "display_data"
    }
   ],
   "source": [
    "sns.boxplot(sehwag['Runs'])"
   ]
  },
  {
   "cell_type": "code",
   "execution_count": 24,
   "id": "1080caf2",
   "metadata": {},
   "outputs": [],
   "source": [
    "sns.boxplot?"
   ]
  },
  {
   "cell_type": "code",
   "execution_count": 25,
   "id": "a6fa8ee1",
   "metadata": {},
   "outputs": [
    {
     "data": {
      "text/plain": [
       "10.0"
      ]
     },
     "execution_count": 25,
     "metadata": {},
     "output_type": "execute_result"
    }
   ],
   "source": [
    "d25=np.percentile(dravid['Runs'],25)\n",
    "d25"
   ]
  },
  {
   "cell_type": "code",
   "execution_count": 26,
   "id": "0360bb09",
   "metadata": {},
   "outputs": [
    {
     "data": {
      "text/plain": [
       "26.0"
      ]
     },
     "execution_count": 26,
     "metadata": {},
     "output_type": "execute_result"
    }
   ],
   "source": [
    "d50=np.percentile(dravid['Runs'],50)\n",
    "d50"
   ]
  },
  {
   "cell_type": "code",
   "execution_count": 27,
   "id": "5c88f0c6",
   "metadata": {},
   "outputs": [
    {
     "data": {
      "text/plain": [
       "54.0"
      ]
     },
     "execution_count": 27,
     "metadata": {},
     "output_type": "execute_result"
    }
   ],
   "source": [
    "d75=np.percentile(dravid['Runs'],75)\n",
    "d75"
   ]
  },
  {
   "cell_type": "code",
   "execution_count": 28,
   "id": "0c5432a2",
   "metadata": {},
   "outputs": [
    {
     "data": {
      "text/plain": [
       "10.0"
      ]
     },
     "execution_count": 28,
     "metadata": {},
     "output_type": "execute_result"
    }
   ],
   "source": [
    "d25q=dravid['Runs'].quantile(.25)\n",
    "d25q"
   ]
  },
  {
   "cell_type": "code",
   "execution_count": 29,
   "id": "7d7bbee7",
   "metadata": {},
   "outputs": [
    {
     "data": {
      "text/plain": [
       "26.0"
      ]
     },
     "execution_count": 29,
     "metadata": {},
     "output_type": "execute_result"
    }
   ],
   "source": [
    "d50q=dravid['Runs'].quantile(.50)\n",
    "d50q"
   ]
  },
  {
   "cell_type": "code",
   "execution_count": 30,
   "id": "431f2911",
   "metadata": {},
   "outputs": [
    {
     "data": {
      "text/plain": [
       "54.0"
      ]
     },
     "execution_count": 30,
     "metadata": {},
     "output_type": "execute_result"
    }
   ],
   "source": [
    "d75q=dravid['Runs'].quantile(.75)\n",
    "d75q"
   ]
  },
  {
   "cell_type": "markdown",
   "id": "81cfbaab",
   "metadata": {},
   "source": [
    "# Dravid IQR"
   ]
  },
  {
   "cell_type": "code",
   "execution_count": 31,
   "id": "82cf3ee7",
   "metadata": {},
   "outputs": [
    {
     "ename": "NameError",
     "evalue": "name 'Q3' is not defined",
     "output_type": "error",
     "traceback": [
      "\u001b[0;31m---------------------------------------------------------------------------\u001b[0m",
      "\u001b[0;31mNameError\u001b[0m                                 Traceback (most recent call last)",
      "Cell \u001b[0;32mIn[31], line 1\u001b[0m\n\u001b[0;32m----> 1\u001b[0m IQR\u001b[38;5;241m=\u001b[39mQ3\u001b[38;5;241m-\u001b[39mQ1\n",
      "\u001b[0;31mNameError\u001b[0m: name 'Q3' is not defined"
     ]
    }
   ],
   "source": [
    "IQR=Q3-Q1"
   ]
  },
  {
   "cell_type": "code",
   "execution_count": null,
   "id": "1cce95d6",
   "metadata": {},
   "outputs": [],
   "source": [
    "IQR_D=d75-d25\n",
    "IQR"
   ]
  },
  {
   "cell_type": "code",
   "execution_count": null,
   "id": "dcfd7a01",
   "metadata": {},
   "outputs": [],
   "source": [
    "DL=max(d25-(1.5*IQR),dravid['Runs'].min())\n",
    "DL"
   ]
  },
  {
   "cell_type": "code",
   "execution_count": null,
   "id": "781031c6",
   "metadata": {},
   "outputs": [],
   "source": [
    "a=np.array([10,20,40,50,30,60,80,90,100,70])"
   ]
  },
  {
   "cell_type": "code",
   "execution_count": null,
   "id": "8a06fd60",
   "metadata": {},
   "outputs": [],
   "source": [
    "np.percentile(a,50)"
   ]
  },
  {
   "cell_type": "code",
   "execution_count": null,
   "id": "96781ed8",
   "metadata": {},
   "outputs": [],
   "source": [
    "a.sort()"
   ]
  },
  {
   "cell_type": "code",
   "execution_count": null,
   "id": "556870e8",
   "metadata": {},
   "outputs": [],
   "source": [
    "a"
   ]
  },
  {
   "cell_type": "code",
   "execution_count": null,
   "id": "19b00404",
   "metadata": {},
   "outputs": [],
   "source": [
    "ls"
   ]
  },
  {
   "cell_type": "code",
   "execution_count": null,
   "id": "7ec312e9",
   "metadata": {},
   "outputs": [],
   "source": [
    "df=pd.read_csv('weight-height.csv')\n",
    "df"
   ]
  },
  {
   "cell_type": "code",
   "execution_count": null,
   "id": "e6bd2eb2",
   "metadata": {},
   "outputs": [],
   "source": [
    "import seaborn as sns"
   ]
  },
  {
   "cell_type": "code",
   "execution_count": null,
   "id": "8f82ada6",
   "metadata": {},
   "outputs": [],
   "source": [
    "sns.kdeplot(df['Height'])\n",
    "plt.show()"
   ]
  },
  {
   "cell_type": "code",
   "execution_count": null,
   "id": "ee8ff5e6",
   "metadata": {},
   "outputs": [],
   "source": [
    "sns.kdeplot(df['Weight'])\n",
    "plt.show()"
   ]
  },
  {
   "cell_type": "code",
   "execution_count": null,
   "id": "4e3488f5",
   "metadata": {},
   "outputs": [],
   "source": [
    "des=df['Height'].describe()\n",
    "des"
   ]
  },
  {
   "cell_type": "code",
   "execution_count": null,
   "id": "033f4e60",
   "metadata": {},
   "outputs": [],
   "source": [
    "from scipy.stats import norm"
   ]
  },
  {
   "cell_type": "code",
   "execution_count": null,
   "id": "35bde2be",
   "metadata": {},
   "outputs": [],
   "source": [
    "df_mean=des['mean']\n",
    "df_mean"
   ]
  },
  {
   "cell_type": "code",
   "execution_count": null,
   "id": "99fcb966",
   "metadata": {},
   "outputs": [],
   "source": [
    "df_25=des['25%']\n",
    "df_25"
   ]
  },
  {
   "cell_type": "code",
   "execution_count": null,
   "id": "cced81b2",
   "metadata": {},
   "outputs": [],
   "source": [
    "df_50=des['50%']\n",
    "df_50"
   ]
  },
  {
   "cell_type": "code",
   "execution_count": null,
   "id": "ab56ec0d",
   "metadata": {},
   "outputs": [],
   "source": [
    "df_75=des['75%']\n",
    "df_75"
   ]
  },
  {
   "cell_type": "code",
   "execution_count": null,
   "id": "e9e890ec",
   "metadata": {},
   "outputs": [],
   "source": [
    "df_std=des['std']\n",
    "df_std"
   ]
  },
  {
   "cell_type": "code",
   "execution_count": null,
   "id": "3787774b",
   "metadata": {},
   "outputs": [],
   "source": [
    "df"
   ]
  },
  {
   "cell_type": "code",
   "execution_count": null,
   "id": "61896b9a",
   "metadata": {},
   "outputs": [],
   "source": [
    "df.describe()"
   ]
  },
  {
   "cell_type": "code",
   "execution_count": null,
   "id": "dfdf6a31",
   "metadata": {},
   "outputs": [],
   "source": [
    "df['Height'].describe()"
   ]
  },
  {
   "cell_type": "code",
   "execution_count": null,
   "id": "e2b3649b",
   "metadata": {},
   "outputs": [],
   "source": [
    "des=df['Height'].describe()\n",
    "des"
   ]
  },
  {
   "cell_type": "code",
   "execution_count": null,
   "id": "5e7b339c",
   "metadata": {},
   "outputs": [],
   "source": [
    "df_mean=des['mean']\n",
    "df_mean"
   ]
  },
  {
   "cell_type": "code",
   "execution_count": null,
   "id": "e7034a5f",
   "metadata": {},
   "outputs": [],
   "source": [
    "sns.kdeplot(df['Height'])\n",
    "plt.show()"
   ]
  },
  {
   "cell_type": "code",
   "execution_count": null,
   "id": "97c95fa2",
   "metadata": {},
   "outputs": [],
   "source": [
    "df_std=des['std']\n",
    "df_std"
   ]
  },
  {
   "cell_type": "code",
   "execution_count": null,
   "id": "e4366d72",
   "metadata": {},
   "outputs": [],
   "source": [
    "norm.cdf?"
   ]
  },
  {
   "cell_type": "code",
   "execution_count": null,
   "id": "cfbf7edd",
   "metadata": {},
   "outputs": [],
   "source": [
    "norm.cdf(x=df_mean,loc=df_mean,scale=df_std)"
   ]
  },
  {
   "cell_type": "code",
   "execution_count": null,
   "id": "562ec7eb",
   "metadata": {},
   "outputs": [],
   "source": [
    "df_median=des['50%']\n",
    "df_median"
   ]
  },
  {
   "cell_type": "code",
   "execution_count": null,
   "id": "e1c9057a",
   "metadata": {},
   "outputs": [],
   "source": [
    "norm.cdf(x=df_median,loc=df_mean,scale=df_std)"
   ]
  },
  {
   "cell_type": "code",
   "execution_count": null,
   "id": "d6a4ab8c",
   "metadata": {},
   "outputs": [],
   "source": [
    "norm.cdf(0)"
   ]
  },
  {
   "cell_type": "code",
   "execution_count": null,
   "id": "0449a217",
   "metadata": {},
   "outputs": [],
   "source": [
    "norm.cdf(df_mean)"
   ]
  },
  {
   "cell_type": "code",
   "execution_count": null,
   "id": "88df4cb5",
   "metadata": {},
   "outputs": [],
   "source": [
    "norm.cdf(1)-norm.cdf(-1)"
   ]
  },
  {
   "cell_type": "code",
   "execution_count": null,
   "id": "4168ee9e",
   "metadata": {},
   "outputs": [],
   "source": [
    "norm.cdf(2)-norm.cdf(-2)"
   ]
  },
  {
   "cell_type": "code",
   "execution_count": null,
   "id": "a87be42d",
   "metadata": {},
   "outputs": [],
   "source": [
    "norm.cdf(3)-norm.cdf(-3)"
   ]
  },
  {
   "cell_type": "code",
   "execution_count": null,
   "id": "9a73d745",
   "metadata": {},
   "outputs": [],
   "source": [
    "import numpy as np"
   ]
  },
  {
   "cell_type": "code",
   "execution_count": null,
   "id": "ecefeaac",
   "metadata": {},
   "outputs": [],
   "source": [
    "import seaborn as sns"
   ]
  },
  {
   "cell_type": "code",
   "execution_count": null,
   "id": "51232f3e",
   "metadata": {},
   "outputs": [],
   "source": [
    "xv=np.linspace(-3,3,1000)\n",
    "z=norm.cdf(xv)\n",
    "sns.lineplot(x=xv,\n",
    "            y=z)\n",
    "plt.show()"
   ]
  },
  {
   "cell_type": "code",
   "execution_count": null,
   "id": "a90129b3",
   "metadata": {},
   "outputs": [],
   "source": [
    "norm.cdf(2.4)"
   ]
  },
  {
   "cell_type": "code",
   "execution_count": null,
   "id": "775d56cd",
   "metadata": {},
   "outputs": [],
   "source": [
    "norm.cdf(2)-norm.cdf(-2)"
   ]
  },
  {
   "cell_type": "code",
   "execution_count": null,
   "id": "0886c5a7",
   "metadata": {},
   "outputs": [],
   "source": [
    "norm.cdf(3/2)"
   ]
  },
  {
   "cell_type": "code",
   "execution_count": null,
   "id": "9981fe79",
   "metadata": {},
   "outputs": [],
   "source": [
    "norm.cdf(3/2)"
   ]
  },
  {
   "cell_type": "code",
   "execution_count": null,
   "id": "b588932a",
   "metadata": {},
   "outputs": [],
   "source": [
    "norm.ppf(1300)"
   ]
  },
  {
   "cell_type": "code",
   "execution_count": null,
   "id": "82e908f6",
   "metadata": {},
   "outputs": [],
   "source": [
    "1-norm.cdf(5/4)"
   ]
  },
  {
   "cell_type": "code",
   "execution_count": 33,
   "id": "10c38e85",
   "metadata": {},
   "outputs": [
    {
     "name": "stdout",
     "output_type": "stream",
     "text": [
      "05_Descriptive_Statistics_Notebook.ipynb\r\n",
      "05_Descriptive_Statistics_Notebook.pdf\r\n",
      "05_Descriptive_Statistics_Scribble_Notes.pdf\r\n",
      "05_Descriptive_Statistics_Typed_Notes.pdf\r\n",
      "dravid.csv\r\n",
      "sehwag.csv\r\n",
      "weight-height.csv\r\n"
     ]
    }
   ],
   "source": [
    "ls"
   ]
  },
  {
   "cell_type": "code",
   "execution_count": 34,
   "id": "55cb135b",
   "metadata": {},
   "outputs": [
    {
     "data": {
      "text/html": [
       "<div>\n",
       "<style scoped>\n",
       "    .dataframe tbody tr th:only-of-type {\n",
       "        vertical-align: middle;\n",
       "    }\n",
       "\n",
       "    .dataframe tbody tr th {\n",
       "        vertical-align: top;\n",
       "    }\n",
       "\n",
       "    .dataframe thead th {\n",
       "        text-align: right;\n",
       "    }\n",
       "</style>\n",
       "<table border=\"1\" class=\"dataframe\">\n",
       "  <thead>\n",
       "    <tr style=\"text-align: right;\">\n",
       "      <th></th>\n",
       "      <th>Gender</th>\n",
       "      <th>Height</th>\n",
       "      <th>Weight</th>\n",
       "    </tr>\n",
       "  </thead>\n",
       "  <tbody>\n",
       "    <tr>\n",
       "      <th>0</th>\n",
       "      <td>Male</td>\n",
       "      <td>73.847017</td>\n",
       "      <td>241.893563</td>\n",
       "    </tr>\n",
       "    <tr>\n",
       "      <th>1</th>\n",
       "      <td>Male</td>\n",
       "      <td>68.781904</td>\n",
       "      <td>162.310473</td>\n",
       "    </tr>\n",
       "    <tr>\n",
       "      <th>2</th>\n",
       "      <td>Male</td>\n",
       "      <td>74.110105</td>\n",
       "      <td>212.740856</td>\n",
       "    </tr>\n",
       "    <tr>\n",
       "      <th>3</th>\n",
       "      <td>Male</td>\n",
       "      <td>71.730978</td>\n",
       "      <td>220.042470</td>\n",
       "    </tr>\n",
       "    <tr>\n",
       "      <th>4</th>\n",
       "      <td>Male</td>\n",
       "      <td>69.881796</td>\n",
       "      <td>206.349801</td>\n",
       "    </tr>\n",
       "    <tr>\n",
       "      <th>...</th>\n",
       "      <td>...</td>\n",
       "      <td>...</td>\n",
       "      <td>...</td>\n",
       "    </tr>\n",
       "    <tr>\n",
       "      <th>9995</th>\n",
       "      <td>Female</td>\n",
       "      <td>66.172652</td>\n",
       "      <td>136.777454</td>\n",
       "    </tr>\n",
       "    <tr>\n",
       "      <th>9996</th>\n",
       "      <td>Female</td>\n",
       "      <td>67.067155</td>\n",
       "      <td>170.867906</td>\n",
       "    </tr>\n",
       "    <tr>\n",
       "      <th>9997</th>\n",
       "      <td>Female</td>\n",
       "      <td>63.867992</td>\n",
       "      <td>128.475319</td>\n",
       "    </tr>\n",
       "    <tr>\n",
       "      <th>9998</th>\n",
       "      <td>Female</td>\n",
       "      <td>69.034243</td>\n",
       "      <td>163.852461</td>\n",
       "    </tr>\n",
       "    <tr>\n",
       "      <th>9999</th>\n",
       "      <td>Female</td>\n",
       "      <td>61.944246</td>\n",
       "      <td>113.649103</td>\n",
       "    </tr>\n",
       "  </tbody>\n",
       "</table>\n",
       "<p>10000 rows × 3 columns</p>\n",
       "</div>"
      ],
      "text/plain": [
       "      Gender     Height      Weight\n",
       "0       Male  73.847017  241.893563\n",
       "1       Male  68.781904  162.310473\n",
       "2       Male  74.110105  212.740856\n",
       "3       Male  71.730978  220.042470\n",
       "4       Male  69.881796  206.349801\n",
       "...      ...        ...         ...\n",
       "9995  Female  66.172652  136.777454\n",
       "9996  Female  67.067155  170.867906\n",
       "9997  Female  63.867992  128.475319\n",
       "9998  Female  69.034243  163.852461\n",
       "9999  Female  61.944246  113.649103\n",
       "\n",
       "[10000 rows x 3 columns]"
      ]
     },
     "execution_count": 34,
     "metadata": {},
     "output_type": "execute_result"
    }
   ],
   "source": [
    "df=pd.read_csv('weight-height.csv')\n",
    "df"
   ]
  },
  {
   "cell_type": "code",
   "execution_count": 37,
   "id": "9107575b",
   "metadata": {},
   "outputs": [
    {
     "data": {
      "text/plain": [
       "<function matplotlib.pyplot.show(close=None, block=None)>"
      ]
     },
     "execution_count": 37,
     "metadata": {},
     "output_type": "execute_result"
    },
    {
     "data": {
      "image/png": "[encoded data removed]",
      "text/plain": [
       "<Figure size 640x480 with 1 Axes>"
      ]
     },
     "metadata": {},
     "output_type": "display_data"
    }
   ],
   "source": [
    "sns.histplot(df['Height'])\n",
    "plt.show"
   ]
  },
  {
   "cell_type": "code",
   "execution_count": 38,
   "id": "6e5ea5e2",
   "metadata": {},
   "outputs": [
    {
     "data": {
      "text/plain": [
       "3.8475281207732324"
      ]
     },
     "execution_count": 38,
     "metadata": {},
     "output_type": "execute_result"
    }
   ],
   "source": [
    "sigma=df['Height'].std()\n",
    "sigma"
   ]
  },
  {
   "cell_type": "code",
   "execution_count": 40,
   "id": "22e8b870",
   "metadata": {},
   "outputs": [
    {
     "data": {
      "text/plain": [
       "66.36755975482124"
      ]
     },
     "execution_count": 40,
     "metadata": {},
     "output_type": "execute_result"
    }
   ],
   "source": [
    "mu=df['Height'].mean()\n",
    "mu"
   ]
  },
  {
   "cell_type": "code",
   "execution_count": 41,
   "id": "ccd713cd",
   "metadata": {},
   "outputs": [
    {
     "data": {
      "text/plain": [
       "(10000,)"
      ]
     },
     "execution_count": 41,
     "metadata": {},
     "output_type": "execute_result"
    }
   ],
   "source": [
    "df['Height'].shape"
   ]
  },
  {
   "cell_type": "code",
   "execution_count": null,
   "id": "57f2d8c4",
   "metadata": {},
   "outputs": [],
   "source": []
  }
 ],
 "metadata": {
  "kernelspec": {
   "display_name": "Python 3 (ipykernel)",
   "language": "python",
   "name": "python3"
  },
  "language_info": {
   "codemirror_mode": {
    "name": "ipython",
    "version": 3
   },
   "file_extension": ".py",
   "mimetype": "text/x-python",
   "name": "python",
   "nbconvert_exporter": "python",
   "pygments_lexer": "ipython3",
   "version": "3.11.5"
  }
 },
 "nbformat": 4,
 "nbformat_minor": 5
}
